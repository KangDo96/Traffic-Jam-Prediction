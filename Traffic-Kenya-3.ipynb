{
 "cells": [
  {
   "cell_type": "markdown",
   "metadata": {},
   "source": [
    "# Traffic"
   ]
  },
  {
   "cell_type": "markdown",
   "metadata": {},
   "source": [
    "### 1.     import pandas numpy e.t.c"
   ]
  },
  {
   "cell_type": "code",
   "execution_count": 1,
   "metadata": {},
   "outputs": [],
   "source": [
    "import numpy as np\n",
    "import pandas as pd\n",
    "import seaborn as sns\n",
    "import matplotlib.pyplot as plt\n",
    "\n",
    "%matplotlib inline"
   ]
  },
  {
   "cell_type": "markdown",
   "metadata": {},
   "source": [
    "### 2.  Get data"
   ]
  },
  {
   "cell_type": "code",
   "execution_count": 2,
   "metadata": {},
   "outputs": [],
   "source": [
    "df = pd.read_csv('train.csv')"
   ]
  },
  {
   "cell_type": "code",
   "execution_count": 4,
   "metadata": {},
   "outputs": [
    {
     "name": "stdout",
     "output_type": "stream",
     "text": [
      "<class 'pandas.core.frame.DataFrame'>\n",
      "RangeIndex: 51645 entries, 0 to 51644\n",
      "Data columns (total 10 columns):\n",
      "ride_id            51645 non-null int64\n",
      "seat_number        51645 non-null object\n",
      "payment_method     51645 non-null object\n",
      "payment_receipt    51645 non-null object\n",
      "travel_date        51645 non-null object\n",
      "travel_time        51645 non-null object\n",
      "travel_from        51645 non-null object\n",
      "travel_to          51645 non-null object\n",
      "car_type           51645 non-null object\n",
      "max_capacity       51645 non-null int64\n",
      "dtypes: int64(2), object(8)\n",
      "memory usage: 3.9+ MB\n"
     ]
    }
   ],
   "source": [
    "df.info()"
   ]
  },
  {
   "cell_type": "code",
   "execution_count": 5,
   "metadata": {},
   "outputs": [
    {
     "data": {
      "text/html": [
       "<div>\n",
       "<style scoped>\n",
       "    .dataframe tbody tr th:only-of-type {\n",
       "        vertical-align: middle;\n",
       "    }\n",
       "\n",
       "    .dataframe tbody tr th {\n",
       "        vertical-align: top;\n",
       "    }\n",
       "\n",
       "    .dataframe thead th {\n",
       "        text-align: right;\n",
       "    }\n",
       "</style>\n",
       "<table border=\"1\" class=\"dataframe\">\n",
       "  <thead>\n",
       "    <tr style=\"text-align: right;\">\n",
       "      <th></th>\n",
       "      <th>ride_id</th>\n",
       "      <th>seat_number</th>\n",
       "      <th>payment_method</th>\n",
       "      <th>payment_receipt</th>\n",
       "      <th>travel_date</th>\n",
       "      <th>travel_time</th>\n",
       "      <th>travel_from</th>\n",
       "      <th>travel_to</th>\n",
       "      <th>car_type</th>\n",
       "      <th>max_capacity</th>\n",
       "    </tr>\n",
       "  </thead>\n",
       "  <tbody>\n",
       "    <tr>\n",
       "      <th>0</th>\n",
       "      <td>1442</td>\n",
       "      <td>15A</td>\n",
       "      <td>Mpesa</td>\n",
       "      <td>UZUEHCBUSO</td>\n",
       "      <td>17-10-17</td>\n",
       "      <td>7:15</td>\n",
       "      <td>Migori</td>\n",
       "      <td>Nairobi</td>\n",
       "      <td>Bus</td>\n",
       "      <td>49</td>\n",
       "    </tr>\n",
       "    <tr>\n",
       "      <th>1</th>\n",
       "      <td>5437</td>\n",
       "      <td>14A</td>\n",
       "      <td>Mpesa</td>\n",
       "      <td>TIHLBUSGTE</td>\n",
       "      <td>19-11-17</td>\n",
       "      <td>7:12</td>\n",
       "      <td>Migori</td>\n",
       "      <td>Nairobi</td>\n",
       "      <td>Bus</td>\n",
       "      <td>49</td>\n",
       "    </tr>\n",
       "    <tr>\n",
       "      <th>2</th>\n",
       "      <td>5710</td>\n",
       "      <td>8B</td>\n",
       "      <td>Mpesa</td>\n",
       "      <td>EQX8Q5G19O</td>\n",
       "      <td>26-11-17</td>\n",
       "      <td>7:05</td>\n",
       "      <td>Keroka</td>\n",
       "      <td>Nairobi</td>\n",
       "      <td>Bus</td>\n",
       "      <td>49</td>\n",
       "    </tr>\n",
       "    <tr>\n",
       "      <th>3</th>\n",
       "      <td>5777</td>\n",
       "      <td>19A</td>\n",
       "      <td>Mpesa</td>\n",
       "      <td>SGP18CL0ME</td>\n",
       "      <td>27-11-17</td>\n",
       "      <td>7:10</td>\n",
       "      <td>Homa Bay</td>\n",
       "      <td>Nairobi</td>\n",
       "      <td>Bus</td>\n",
       "      <td>49</td>\n",
       "    </tr>\n",
       "    <tr>\n",
       "      <th>4</th>\n",
       "      <td>5778</td>\n",
       "      <td>11A</td>\n",
       "      <td>Mpesa</td>\n",
       "      <td>BM97HFRGL9</td>\n",
       "      <td>27-11-17</td>\n",
       "      <td>7:12</td>\n",
       "      <td>Migori</td>\n",
       "      <td>Nairobi</td>\n",
       "      <td>Bus</td>\n",
       "      <td>49</td>\n",
       "    </tr>\n",
       "    <tr>\n",
       "      <th>5</th>\n",
       "      <td>5777</td>\n",
       "      <td>18B</td>\n",
       "      <td>Mpesa</td>\n",
       "      <td>B6PBDU30IZ</td>\n",
       "      <td>27-11-17</td>\n",
       "      <td>7:10</td>\n",
       "      <td>Homa Bay</td>\n",
       "      <td>Nairobi</td>\n",
       "      <td>Bus</td>\n",
       "      <td>49</td>\n",
       "    </tr>\n",
       "    <tr>\n",
       "      <th>6</th>\n",
       "      <td>5777</td>\n",
       "      <td>14A</td>\n",
       "      <td>Mpesa</td>\n",
       "      <td>MZHGDGS6QZ</td>\n",
       "      <td>27-11-17</td>\n",
       "      <td>7:10</td>\n",
       "      <td>Homa Bay</td>\n",
       "      <td>Nairobi</td>\n",
       "      <td>Bus</td>\n",
       "      <td>49</td>\n",
       "    </tr>\n",
       "    <tr>\n",
       "      <th>7</th>\n",
       "      <td>5778</td>\n",
       "      <td>25</td>\n",
       "      <td>Mpesa</td>\n",
       "      <td>MYVTYFNXDZ</td>\n",
       "      <td>27-11-17</td>\n",
       "      <td>7:12</td>\n",
       "      <td>Migori</td>\n",
       "      <td>Nairobi</td>\n",
       "      <td>Bus</td>\n",
       "      <td>49</td>\n",
       "    </tr>\n",
       "    <tr>\n",
       "      <th>8</th>\n",
       "      <td>5778</td>\n",
       "      <td>21B</td>\n",
       "      <td>Mpesa</td>\n",
       "      <td>TE1WYK1NYE</td>\n",
       "      <td>27-11-17</td>\n",
       "      <td>7:12</td>\n",
       "      <td>Migori</td>\n",
       "      <td>Nairobi</td>\n",
       "      <td>Bus</td>\n",
       "      <td>49</td>\n",
       "    </tr>\n",
       "    <tr>\n",
       "      <th>9</th>\n",
       "      <td>5781</td>\n",
       "      <td>22A</td>\n",
       "      <td>Mpesa</td>\n",
       "      <td>VGG7Q3MVJX</td>\n",
       "      <td>27-11-17</td>\n",
       "      <td>7:09</td>\n",
       "      <td>Homa Bay</td>\n",
       "      <td>Nairobi</td>\n",
       "      <td>Bus</td>\n",
       "      <td>49</td>\n",
       "    </tr>\n",
       "    <tr>\n",
       "      <th>10</th>\n",
       "      <td>5781</td>\n",
       "      <td>18B</td>\n",
       "      <td>Mpesa</td>\n",
       "      <td>YJ7JFHOGKA</td>\n",
       "      <td>27-11-17</td>\n",
       "      <td>7:09</td>\n",
       "      <td>Homa Bay</td>\n",
       "      <td>Nairobi</td>\n",
       "      <td>Bus</td>\n",
       "      <td>49</td>\n",
       "    </tr>\n",
       "    <tr>\n",
       "      <th>11</th>\n",
       "      <td>5781</td>\n",
       "      <td>17B</td>\n",
       "      <td>Mpesa</td>\n",
       "      <td>4JQOSC881A</td>\n",
       "      <td>27-11-17</td>\n",
       "      <td>7:09</td>\n",
       "      <td>Homa Bay</td>\n",
       "      <td>Nairobi</td>\n",
       "      <td>Bus</td>\n",
       "      <td>49</td>\n",
       "    </tr>\n",
       "    <tr>\n",
       "      <th>12</th>\n",
       "      <td>5784</td>\n",
       "      <td>1X</td>\n",
       "      <td>Mpesa</td>\n",
       "      <td>3OPU23FHRB</td>\n",
       "      <td>20-04-18</td>\n",
       "      <td>5:10</td>\n",
       "      <td>Kisii</td>\n",
       "      <td>Nairobi</td>\n",
       "      <td>shuttle</td>\n",
       "      <td>11</td>\n",
       "    </tr>\n",
       "    <tr>\n",
       "      <th>13</th>\n",
       "      <td>5789</td>\n",
       "      <td>1X</td>\n",
       "      <td>Mpesa</td>\n",
       "      <td>BPRX4UMFFN</td>\n",
       "      <td>20-04-18</td>\n",
       "      <td>9:50</td>\n",
       "      <td>Kisii</td>\n",
       "      <td>Nairobi</td>\n",
       "      <td>shuttle</td>\n",
       "      <td>11</td>\n",
       "    </tr>\n",
       "    <tr>\n",
       "      <th>14</th>\n",
       "      <td>5778</td>\n",
       "      <td>3A</td>\n",
       "      <td>Mpesa</td>\n",
       "      <td>JDD4ZL64LP</td>\n",
       "      <td>27-11-17</td>\n",
       "      <td>7:12</td>\n",
       "      <td>Migori</td>\n",
       "      <td>Nairobi</td>\n",
       "      <td>Bus</td>\n",
       "      <td>49</td>\n",
       "    </tr>\n",
       "    <tr>\n",
       "      <th>15</th>\n",
       "      <td>5790</td>\n",
       "      <td>1B</td>\n",
       "      <td>Mpesa</td>\n",
       "      <td>DC8ABRSXXK</td>\n",
       "      <td>20-04-18</td>\n",
       "      <td>7:06</td>\n",
       "      <td>Kisii</td>\n",
       "      <td>Nairobi</td>\n",
       "      <td>Bus</td>\n",
       "      <td>49</td>\n",
       "    </tr>\n",
       "    <tr>\n",
       "      <th>16</th>\n",
       "      <td>5791</td>\n",
       "      <td>1</td>\n",
       "      <td>Mpesa</td>\n",
       "      <td>HGQURN0SZS</td>\n",
       "      <td>20-04-18</td>\n",
       "      <td>6:00</td>\n",
       "      <td>Kisii</td>\n",
       "      <td>Nairobi</td>\n",
       "      <td>shuttle</td>\n",
       "      <td>11</td>\n",
       "    </tr>\n",
       "    <tr>\n",
       "      <th>17</th>\n",
       "      <td>5792</td>\n",
       "      <td>1</td>\n",
       "      <td>Mpesa</td>\n",
       "      <td>8D9V8HK2FC</td>\n",
       "      <td>20-04-18</td>\n",
       "      <td>5:50</td>\n",
       "      <td>Kisii</td>\n",
       "      <td>Nairobi</td>\n",
       "      <td>shuttle</td>\n",
       "      <td>11</td>\n",
       "    </tr>\n",
       "    <tr>\n",
       "      <th>18</th>\n",
       "      <td>5793</td>\n",
       "      <td>1</td>\n",
       "      <td>Mpesa</td>\n",
       "      <td>TTZQDYZHAB</td>\n",
       "      <td>20-04-18</td>\n",
       "      <td>10:58</td>\n",
       "      <td>Kisii</td>\n",
       "      <td>Nairobi</td>\n",
       "      <td>shuttle</td>\n",
       "      <td>11</td>\n",
       "    </tr>\n",
       "    <tr>\n",
       "      <th>19</th>\n",
       "      <td>5790</td>\n",
       "      <td>4A</td>\n",
       "      <td>Mpesa</td>\n",
       "      <td>F8VBKYCXPL</td>\n",
       "      <td>20-04-18</td>\n",
       "      <td>7:06</td>\n",
       "      <td>Kisii</td>\n",
       "      <td>Nairobi</td>\n",
       "      <td>Bus</td>\n",
       "      <td>49</td>\n",
       "    </tr>\n",
       "    <tr>\n",
       "      <th>20</th>\n",
       "      <td>5794</td>\n",
       "      <td>1</td>\n",
       "      <td>Mpesa</td>\n",
       "      <td>ETNVCDEZLR</td>\n",
       "      <td>20-04-18</td>\n",
       "      <td>6:50</td>\n",
       "      <td>Kisii</td>\n",
       "      <td>Nairobi</td>\n",
       "      <td>shuttle</td>\n",
       "      <td>11</td>\n",
       "    </tr>\n",
       "    <tr>\n",
       "      <th>21</th>\n",
       "      <td>5781</td>\n",
       "      <td>18A</td>\n",
       "      <td>Mpesa</td>\n",
       "      <td>KP4YUALFXF</td>\n",
       "      <td>27-11-17</td>\n",
       "      <td>7:09</td>\n",
       "      <td>Homa Bay</td>\n",
       "      <td>Nairobi</td>\n",
       "      <td>Bus</td>\n",
       "      <td>49</td>\n",
       "    </tr>\n",
       "    <tr>\n",
       "      <th>22</th>\n",
       "      <td>5778</td>\n",
       "      <td>23A</td>\n",
       "      <td>Mpesa</td>\n",
       "      <td>YZJOJQ3NA3</td>\n",
       "      <td>27-11-17</td>\n",
       "      <td>7:12</td>\n",
       "      <td>Migori</td>\n",
       "      <td>Nairobi</td>\n",
       "      <td>Bus</td>\n",
       "      <td>49</td>\n",
       "    </tr>\n",
       "    <tr>\n",
       "      <th>23</th>\n",
       "      <td>5795</td>\n",
       "      <td>1</td>\n",
       "      <td>Mpesa</td>\n",
       "      <td>VIRXVJUIYX</td>\n",
       "      <td>20-04-18</td>\n",
       "      <td>5:30</td>\n",
       "      <td>Kisii</td>\n",
       "      <td>Nairobi</td>\n",
       "      <td>shuttle</td>\n",
       "      <td>11</td>\n",
       "    </tr>\n",
       "    <tr>\n",
       "      <th>24</th>\n",
       "      <td>5796</td>\n",
       "      <td>5</td>\n",
       "      <td>Mpesa</td>\n",
       "      <td>9CSSSQN2TN</td>\n",
       "      <td>20-04-18</td>\n",
       "      <td>6:40</td>\n",
       "      <td>Kisii</td>\n",
       "      <td>Nairobi</td>\n",
       "      <td>shuttle</td>\n",
       "      <td>11</td>\n",
       "    </tr>\n",
       "    <tr>\n",
       "      <th>25</th>\n",
       "      <td>5796</td>\n",
       "      <td>1</td>\n",
       "      <td>Mpesa</td>\n",
       "      <td>BC0SCWB6NU</td>\n",
       "      <td>20-04-18</td>\n",
       "      <td>6:40</td>\n",
       "      <td>Kisii</td>\n",
       "      <td>Nairobi</td>\n",
       "      <td>shuttle</td>\n",
       "      <td>11</td>\n",
       "    </tr>\n",
       "  </tbody>\n",
       "</table>\n",
       "</div>"
      ],
      "text/plain": [
       "    ride_id seat_number payment_method payment_receipt travel_date  \\\n",
       "0      1442         15A          Mpesa      UZUEHCBUSO    17-10-17   \n",
       "1      5437         14A          Mpesa      TIHLBUSGTE    19-11-17   \n",
       "2      5710          8B          Mpesa      EQX8Q5G19O    26-11-17   \n",
       "3      5777         19A          Mpesa      SGP18CL0ME    27-11-17   \n",
       "4      5778         11A          Mpesa      BM97HFRGL9    27-11-17   \n",
       "5      5777         18B          Mpesa      B6PBDU30IZ    27-11-17   \n",
       "6      5777         14A          Mpesa      MZHGDGS6QZ    27-11-17   \n",
       "7      5778          25          Mpesa      MYVTYFNXDZ    27-11-17   \n",
       "8      5778         21B          Mpesa      TE1WYK1NYE    27-11-17   \n",
       "9      5781         22A          Mpesa      VGG7Q3MVJX    27-11-17   \n",
       "10     5781         18B          Mpesa      YJ7JFHOGKA    27-11-17   \n",
       "11     5781         17B          Mpesa      4JQOSC881A    27-11-17   \n",
       "12     5784          1X          Mpesa      3OPU23FHRB    20-04-18   \n",
       "13     5789          1X          Mpesa      BPRX4UMFFN    20-04-18   \n",
       "14     5778          3A          Mpesa      JDD4ZL64LP    27-11-17   \n",
       "15     5790          1B          Mpesa      DC8ABRSXXK    20-04-18   \n",
       "16     5791           1          Mpesa      HGQURN0SZS    20-04-18   \n",
       "17     5792           1          Mpesa      8D9V8HK2FC    20-04-18   \n",
       "18     5793           1          Mpesa      TTZQDYZHAB    20-04-18   \n",
       "19     5790          4A          Mpesa      F8VBKYCXPL    20-04-18   \n",
       "20     5794           1          Mpesa      ETNVCDEZLR    20-04-18   \n",
       "21     5781         18A          Mpesa      KP4YUALFXF    27-11-17   \n",
       "22     5778         23A          Mpesa      YZJOJQ3NA3    27-11-17   \n",
       "23     5795           1          Mpesa      VIRXVJUIYX    20-04-18   \n",
       "24     5796           5          Mpesa      9CSSSQN2TN    20-04-18   \n",
       "25     5796           1          Mpesa      BC0SCWB6NU    20-04-18   \n",
       "\n",
       "   travel_time travel_from travel_to car_type  max_capacity  \n",
       "0         7:15      Migori   Nairobi      Bus            49  \n",
       "1         7:12      Migori   Nairobi      Bus            49  \n",
       "2         7:05      Keroka   Nairobi      Bus            49  \n",
       "3         7:10    Homa Bay   Nairobi      Bus            49  \n",
       "4         7:12      Migori   Nairobi      Bus            49  \n",
       "5         7:10    Homa Bay   Nairobi      Bus            49  \n",
       "6         7:10    Homa Bay   Nairobi      Bus            49  \n",
       "7         7:12      Migori   Nairobi      Bus            49  \n",
       "8         7:12      Migori   Nairobi      Bus            49  \n",
       "9         7:09    Homa Bay   Nairobi      Bus            49  \n",
       "10        7:09    Homa Bay   Nairobi      Bus            49  \n",
       "11        7:09    Homa Bay   Nairobi      Bus            49  \n",
       "12        5:10       Kisii   Nairobi  shuttle            11  \n",
       "13        9:50       Kisii   Nairobi  shuttle            11  \n",
       "14        7:12      Migori   Nairobi      Bus            49  \n",
       "15        7:06       Kisii   Nairobi      Bus            49  \n",
       "16        6:00       Kisii   Nairobi  shuttle            11  \n",
       "17        5:50       Kisii   Nairobi  shuttle            11  \n",
       "18       10:58       Kisii   Nairobi  shuttle            11  \n",
       "19        7:06       Kisii   Nairobi      Bus            49  \n",
       "20        6:50       Kisii   Nairobi  shuttle            11  \n",
       "21        7:09    Homa Bay   Nairobi      Bus            49  \n",
       "22        7:12      Migori   Nairobi      Bus            49  \n",
       "23        5:30       Kisii   Nairobi  shuttle            11  \n",
       "24        6:40       Kisii   Nairobi  shuttle            11  \n",
       "25        6:40       Kisii   Nairobi  shuttle            11  "
      ]
     },
     "execution_count": 5,
     "metadata": {},
     "output_type": "execute_result"
    }
   ],
   "source": [
    "df.head(26)"
   ]
  },
  {
   "cell_type": "code",
   "execution_count": 6,
   "metadata": {},
   "outputs": [
    {
     "data": {
      "text/html": [
       "<div>\n",
       "<style scoped>\n",
       "    .dataframe tbody tr th:only-of-type {\n",
       "        vertical-align: middle;\n",
       "    }\n",
       "\n",
       "    .dataframe tbody tr th {\n",
       "        vertical-align: top;\n",
       "    }\n",
       "\n",
       "    .dataframe thead th {\n",
       "        text-align: right;\n",
       "    }\n",
       "</style>\n",
       "<table border=\"1\" class=\"dataframe\">\n",
       "  <thead>\n",
       "    <tr style=\"text-align: right;\">\n",
       "      <th></th>\n",
       "      <th>ride_id</th>\n",
       "      <th>max_capacity</th>\n",
       "    </tr>\n",
       "  </thead>\n",
       "  <tbody>\n",
       "    <tr>\n",
       "      <th>count</th>\n",
       "      <td>51645.000000</td>\n",
       "      <td>51645.000000</td>\n",
       "    </tr>\n",
       "    <tr>\n",
       "      <th>mean</th>\n",
       "      <td>10188.645793</td>\n",
       "      <td>34.534321</td>\n",
       "    </tr>\n",
       "    <tr>\n",
       "      <th>std</th>\n",
       "      <td>2211.295708</td>\n",
       "      <td>18.451193</td>\n",
       "    </tr>\n",
       "    <tr>\n",
       "      <th>min</th>\n",
       "      <td>1442.000000</td>\n",
       "      <td>11.000000</td>\n",
       "    </tr>\n",
       "    <tr>\n",
       "      <th>25%</th>\n",
       "      <td>8287.000000</td>\n",
       "      <td>11.000000</td>\n",
       "    </tr>\n",
       "    <tr>\n",
       "      <th>50%</th>\n",
       "      <td>10353.000000</td>\n",
       "      <td>49.000000</td>\n",
       "    </tr>\n",
       "    <tr>\n",
       "      <th>75%</th>\n",
       "      <td>12029.000000</td>\n",
       "      <td>49.000000</td>\n",
       "    </tr>\n",
       "    <tr>\n",
       "      <th>max</th>\n",
       "      <td>20117.000000</td>\n",
       "      <td>49.000000</td>\n",
       "    </tr>\n",
       "  </tbody>\n",
       "</table>\n",
       "</div>"
      ],
      "text/plain": [
       "            ride_id  max_capacity\n",
       "count  51645.000000  51645.000000\n",
       "mean   10188.645793     34.534321\n",
       "std     2211.295708     18.451193\n",
       "min     1442.000000     11.000000\n",
       "25%     8287.000000     11.000000\n",
       "50%    10353.000000     49.000000\n",
       "75%    12029.000000     49.000000\n",
       "max    20117.000000     49.000000"
      ]
     },
     "execution_count": 6,
     "metadata": {},
     "output_type": "execute_result"
    }
   ],
   "source": [
    "df.describe()"
   ]
  },
  {
   "cell_type": "code",
   "execution_count": 7,
   "metadata": {},
   "outputs": [
    {
     "data": {
      "text/plain": [
       "Int64Index([ 8454,  8090, 10834, 11382, 13211, 12160,  8340, 11710, 12698,\n",
       "            13031,\n",
       "            ...\n",
       "            10090,  7981, 13800,  7949,  5836,  5804,  9834,  9738, 11755,\n",
       "             6147],\n",
       "           dtype='int64', length=6249)"
      ]
     },
     "execution_count": 7,
     "metadata": {},
     "output_type": "execute_result"
    }
   ],
   "source": [
    "r_id = df['ride_id'].value_counts().index\n",
    "r_id\n",
    "### The number of ride_id is 6249"
   ]
  },
  {
   "cell_type": "code",
   "execution_count": 8,
   "metadata": {},
   "outputs": [],
   "source": [
    "# sn = df['seat_number'].value_counts().index.sort_values()\n",
    "# sn.value_counts()\n",
    "# ### The total number of seats are 62 per ride"
   ]
  },
  {
   "cell_type": "code",
   "execution_count": 10,
   "metadata": {},
   "outputs": [
    {
     "data": {
      "text/plain": [
       "149"
      ]
     },
     "execution_count": 10,
     "metadata": {},
     "output_type": "execute_result"
    }
   ],
   "source": [
    "df['travel_date'].nunique()\n",
    "### the number of days travelled were 149 days"
   ]
  },
  {
   "cell_type": "code",
   "execution_count": 11,
   "metadata": {},
   "outputs": [
    {
     "data": {
      "text/plain": [
       "78"
      ]
     },
     "execution_count": 11,
     "metadata": {},
     "output_type": "execute_result"
    }
   ],
   "source": [
    "df['travel_time'].nunique()\n",
    "### the travel time recored 78 different times"
   ]
  },
  {
   "cell_type": "code",
   "execution_count": 13,
   "metadata": {},
   "outputs": [
    {
     "data": {
      "text/plain": [
       "Kendu Bay        1\n",
       "Oyugis           5\n",
       "Keumbu          22\n",
       "Sori            55\n",
       "Ndhiwa         236\n",
       "Mbita          378\n",
       "Rodi           405\n",
       "Nyachenge      512\n",
       "Keroka         988\n",
       "Kijauri       1031\n",
       "Awendo        1788\n",
       "Kehancha      1909\n",
       "Rongo         3928\n",
       "Sirare        4449\n",
       "Homa Bay      6304\n",
       "Migori        7027\n",
       "Kisii        22607\n",
       "Name: travel_from, dtype: int64"
      ]
     },
     "execution_count": 13,
     "metadata": {},
     "output_type": "execute_result"
    }
   ],
   "source": [
    "time = df['travel_from'].value_counts().sort_values()\n",
    "time\n",
    "### the travel time recored 78 different times"
   ]
  },
  {
   "cell_type": "code",
   "execution_count": 14,
   "metadata": {},
   "outputs": [
    {
     "data": {
      "text/plain": [
       "17"
      ]
     },
     "execution_count": 14,
     "metadata": {},
     "output_type": "execute_result"
    }
   ],
   "source": [
    "df['travel_from'].nunique()\n",
    "### we had 17 different departure station"
   ]
  },
  {
   "cell_type": "code",
   "execution_count": 15,
   "metadata": {},
   "outputs": [
    {
     "data": {
      "text/plain": [
       "1"
      ]
     },
     "execution_count": 15,
     "metadata": {},
     "output_type": "execute_result"
    }
   ],
   "source": [
    "df['travel_to'].nunique()\n",
    "### One finite destination Nairobi"
   ]
  },
  {
   "cell_type": "code",
   "execution_count": 15,
   "metadata": {},
   "outputs": [
    {
     "data": {
      "text/plain": [
       "Bus        31985\n",
       "shuttle    19660\n",
       "Name: car_type, dtype: int64"
      ]
     },
     "execution_count": 15,
     "metadata": {},
     "output_type": "execute_result"
    }
   ],
   "source": [
    "df['car_type'].value_counts()\n",
    "### 2 transportation method (Bus, Shuttle)"
   ]
  },
  {
   "cell_type": "code",
   "execution_count": 16,
   "metadata": {},
   "outputs": [
    {
     "data": {
      "text/plain": [
       "49    31985\n",
       "11    19660\n",
       "Name: max_capacity, dtype: int64"
      ]
     },
     "execution_count": 16,
     "metadata": {},
     "output_type": "execute_result"
    }
   ],
   "source": [
    "df['max_capacity'].value_counts()"
   ]
  },
  {
   "cell_type": "markdown",
   "metadata": {},
   "source": [
    "### 3. EDA "
   ]
  },
  {
   "cell_type": "markdown",
   "metadata": {},
   "source": [
    "\n",
    "- The number of people with bus was more than those with shuttle, so more sales of ticket wiil be on bus"
   ]
  },
  {
   "cell_type": "code",
   "execution_count": 17,
   "metadata": {},
   "outputs": [],
   "source": [
    "sns.set_style('whitegrid')"
   ]
  },
  {
   "cell_type": "code",
   "execution_count": 55,
   "metadata": {},
   "outputs": [
    {
     "name": "stderr",
     "output_type": "stream",
     "text": [
      "/home/clone/anaconda3/lib/python3.6/site-packages/scipy/stats/stats.py:1713: FutureWarning: Using a non-tuple sequence for multidimensional indexing is deprecated; use `arr[tuple(seq)]` instead of `arr[seq]`. In the future this will be interpreted as an array index, `arr[np.array(seq)]`, which will result either in an error or a different result.\n",
      "  return np.add.reduce(sorted[indexer] * weights, axis=axis) / sumval\n"
     ]
    },
    {
     "data": {
      "text/plain": [
       "<matplotlib.axes._subplots.AxesSubplot at 0x7f767e1cf7f0>"
      ]
     },
     "execution_count": 55,
     "metadata": {},
     "output_type": "execute_result"
    },
    {
     "data": {
      "image/png": "[encoded data removed]",
      "text/plain": [
       "<Figure size 1368x432 with 1 Axes>"
      ]
     },
     "metadata": {},
     "output_type": "display_data"
    }
   ],
   "source": [
    "plt.figure(figsize=(19,6))\n",
    "sns.barplot(y='max_capacity', x='travel_from', data=df)"
   ]
  },
  {
   "cell_type": "markdown",
   "metadata": {},
   "source": [
    "- "
   ]
  },
  {
   "cell_type": "code",
   "execution_count": 23,
   "metadata": {},
   "outputs": [
    {
     "data": {
      "text/plain": [
       "<matplotlib.axes._subplots.AxesSubplot at 0x7f768c2abef0>"
      ]
     },
     "execution_count": 23,
     "metadata": {},
     "output_type": "execute_result"
    },
    {
     "data": {
      "image/png": "[encoded data removed]",
      "text/plain": [
       "<Figure size 1368x504 with 1 Axes>"
      ]
     },
     "metadata": {},
     "output_type": "display_data"
    }
   ],
   "source": [
    "plt.figure(figsize=(19,7))\n",
    "sns.countplot(x='travel_from', hue='travel_date',data=df)"
   ]
  },
  {
   "cell_type": "code",
   "execution_count": 32,
   "metadata": {},
   "outputs": [
    {
     "data": {
      "text/plain": [
       "<matplotlib.axes._subplots.AxesSubplot at 0x7f76819a27b8>"
      ]
     },
     "execution_count": 32,
     "metadata": {},
     "output_type": "execute_result"
    },
    {
     "data": {
      "image/png": "[encoded data removed]",
      "text/plain": [
       "<Figure size 1368x432 with 1 Axes>"
      ]
     },
     "metadata": {},
     "output_type": "display_data"
    }
   ],
   "source": [
    "plt.figure(figsize=(19,6))\n",
    "sns.countplot(x='max_capacity',hue='travel_from',palette='Set3',linewidth=3, edgecolor=sns.color_palette(\"dark\", 7), saturation=0.89, data=df)"
   ]
  },
  {
   "cell_type": "code",
   "execution_count": 37,
   "metadata": {},
   "outputs": [
    {
     "name": "stderr",
     "output_type": "stream",
     "text": [
      "/home/clone/anaconda3/lib/python3.6/site-packages/matplotlib/axes/_axes.py:6462: UserWarning: The 'normed' kwarg is deprecated, and has been replaced by the 'density' kwarg.\n",
      "  warnings.warn(\"The 'normed' kwarg is deprecated, and has been \"\n"
     ]
    },
    {
     "data": {
      "text/plain": [
       "<matplotlib.axes._subplots.AxesSubplot at 0x7f76814fdf60>"
      ]
     },
     "execution_count": 37,
     "metadata": {},
     "output_type": "execute_result"
    },
    {
     "data": {
      "image/png": "[encoded data removed]",
      "text/plain": [
       "<Figure size 792x288 with 1 Axes>"
      ]
     },
     "metadata": {},
     "output_type": "display_data"
    }
   ],
   "source": [
    "plt.figure(figsize=(11,4))\n",
    "sns.distplot(df['ride_id'],bins=30, kde=False, color='green')"
   ]
  },
  {
   "cell_type": "code",
   "execution_count": 38,
   "metadata": {},
   "outputs": [
    {
     "data": {
      "text/plain": [
       "<matplotlib.axes._subplots.AxesSubplot at 0x7f76814e5358>"
      ]
     },
     "execution_count": 38,
     "metadata": {},
     "output_type": "execute_result"
    },
    {
     "data": {
      "image/png": "[encoded data removed]",
      "text/plain": [
       "<Figure size 792x288 with 1 Axes>"
      ]
     },
     "metadata": {},
     "output_type": "display_data"
    }
   ],
   "source": [
    "plt.figure(figsize=(11,4))\n",
    "sns.boxplot(x='ride_id', y=None, hue='travel_from', data=df, order=None)"
   ]
  },
  {
   "cell_type": "code",
   "execution_count": 56,
   "metadata": {},
   "outputs": [
    {
     "name": "stderr",
     "output_type": "stream",
     "text": [
      "/home/clone/anaconda3/lib/python3.6/site-packages/scipy/stats/stats.py:1713: FutureWarning: Using a non-tuple sequence for multidimensional indexing is deprecated; use `arr[tuple(seq)]` instead of `arr[seq]`. In the future this will be interpreted as an array index, `arr[np.array(seq)]`, which will result either in an error or a different result.\n",
      "  return np.add.reduce(sorted[indexer] * weights, axis=axis) / sumval\n"
     ]
    },
    {
     "data": {
      "text/plain": [
       "<seaborn.axisgrid.FacetGrid at 0x7f7680453e10>"
      ]
     },
     "execution_count": 56,
     "metadata": {},
     "output_type": "execute_result"
    },
    {
     "data": {
      "text/plain": [
       "<Figure size 1368x432 with 0 Axes>"
      ]
     },
     "metadata": {},
     "output_type": "display_data"
    },
    {
     "data": {
      "image/png": "[encoded data removed]",
      "text/plain": [
       "<Figure size 288x288 with 1 Axes>"
      ]
     },
     "metadata": {},
     "output_type": "display_data"
    }
   ],
   "source": [
    "plt.figure(figsize=(19,6))\n",
    "sns.factorplot(x='max_capacity', y='travel_from', data=df)"
   ]
  },
  {
   "cell_type": "code",
   "execution_count": 57,
   "metadata": {},
   "outputs": [
    {
     "data": {
      "text/plain": [
       "<seaborn.axisgrid.PairGrid at 0x7f767e07cef0>"
      ]
     },
     "execution_count": 57,
     "metadata": {},
     "output_type": "execute_result"
    },
    {
     "data": {
      "text/plain": [
       "<Figure size 2880x3960 with 0 Axes>"
      ]
     },
     "metadata": {},
     "output_type": "display_data"
    },
    {
     "data": {
      "image/png": "[encoded data removed]",
      "text/plain": [
       "<Figure size 452.375x360 with 6 Axes>"
      ]
     },
     "metadata": {},
     "output_type": "display_data"
    }
   ],
   "source": [
    "plt.figure(figsize=(40,55))\n",
    "sns.pairplot(df, hue='travel_from')"
   ]
  },
  {
   "cell_type": "markdown",
   "metadata": {},
   "source": [
    "### 4. Categorical features"
   ]
  },
  {
   "cell_type": "code",
   "execution_count": 58,
   "metadata": {},
   "outputs": [
    {
     "name": "stdout",
     "output_type": "stream",
     "text": [
      "<class 'pandas.core.frame.DataFrame'>\n",
      "RangeIndex: 51645 entries, 0 to 51644\n",
      "Data columns (total 10 columns):\n",
      "ride_id            51645 non-null int64\n",
      "seat_number        51645 non-null object\n",
      "payment_method     51645 non-null object\n",
      "payment_receipt    51645 non-null object\n",
      "travel_date        51645 non-null object\n",
      "travel_time        51645 non-null object\n",
      "travel_from        51645 non-null object\n",
      "travel_to          51645 non-null object\n",
      "car_type           51645 non-null object\n",
      "max_capacity       51645 non-null int64\n",
      "dtypes: int64(2), object(8)\n",
      "memory usage: 3.9+ MB\n"
     ]
    }
   ],
   "source": [
    "df.info()"
   ]
  },
  {
   "cell_type": "code",
   "execution_count": 59,
   "metadata": {},
   "outputs": [],
   "source": [
    "values = {\n",
    "    'travel_from':{'Kisii':17, 'Migori':14, 'Homa Bay':13, 'Sirare':12, 'Rongo':11, 'Kehancha':10, 'Awendo':9,\n",
    "       'Kijauri':16, 'Keroka':15, 'Nyachenge':8, 'Rodi':7, 'Mbita':6, 'Ndhiwa':5, 'Sori':4,\n",
    "       'Keumbu':3, 'Oyugis':2, 'Kendu Bay':1},\n",
    "    'travel_to':{'Nairobi':1},\n",
    "    'car_type':{'Bus':1,'shuttle':0}\n",
    "}\n",
    "df.replace(values, inplace=True)"
   ]
  },
  {
   "cell_type": "code",
   "execution_count": 65,
   "metadata": {},
   "outputs": [
    {
     "data": {
      "text/html": [
       "<div>\n",
       "<style scoped>\n",
       "    .dataframe tbody tr th:only-of-type {\n",
       "        vertical-align: middle;\n",
       "    }\n",
       "\n",
       "    .dataframe tbody tr th {\n",
       "        vertical-align: top;\n",
       "    }\n",
       "\n",
       "    .dataframe thead th {\n",
       "        text-align: right;\n",
       "    }\n",
       "</style>\n",
       "<table border=\"1\" class=\"dataframe\">\n",
       "  <thead>\n",
       "    <tr style=\"text-align: right;\">\n",
       "      <th></th>\n",
       "      <th>ride_id</th>\n",
       "      <th>seat_number</th>\n",
       "      <th>payment_method</th>\n",
       "      <th>payment_receipt</th>\n",
       "      <th>travel_date</th>\n",
       "      <th>travel_time</th>\n",
       "      <th>travel_from</th>\n",
       "      <th>travel_to</th>\n",
       "      <th>car_type</th>\n",
       "      <th>max_capacity</th>\n",
       "    </tr>\n",
       "  </thead>\n",
       "  <tbody>\n",
       "    <tr>\n",
       "      <th>0</th>\n",
       "      <td>1442</td>\n",
       "      <td>15A</td>\n",
       "      <td>Mpesa</td>\n",
       "      <td>UZUEHCBUSO</td>\n",
       "      <td>17-10-17</td>\n",
       "      <td>7:15</td>\n",
       "      <td>14</td>\n",
       "      <td>1</td>\n",
       "      <td>1</td>\n",
       "      <td>49</td>\n",
       "    </tr>\n",
       "    <tr>\n",
       "      <th>1</th>\n",
       "      <td>5437</td>\n",
       "      <td>14A</td>\n",
       "      <td>Mpesa</td>\n",
       "      <td>TIHLBUSGTE</td>\n",
       "      <td>19-11-17</td>\n",
       "      <td>7:12</td>\n",
       "      <td>14</td>\n",
       "      <td>1</td>\n",
       "      <td>1</td>\n",
       "      <td>49</td>\n",
       "    </tr>\n",
       "    <tr>\n",
       "      <th>2</th>\n",
       "      <td>5710</td>\n",
       "      <td>8B</td>\n",
       "      <td>Mpesa</td>\n",
       "      <td>EQX8Q5G19O</td>\n",
       "      <td>26-11-17</td>\n",
       "      <td>7:05</td>\n",
       "      <td>15</td>\n",
       "      <td>1</td>\n",
       "      <td>1</td>\n",
       "      <td>49</td>\n",
       "    </tr>\n",
       "    <tr>\n",
       "      <th>3</th>\n",
       "      <td>5777</td>\n",
       "      <td>19A</td>\n",
       "      <td>Mpesa</td>\n",
       "      <td>SGP18CL0ME</td>\n",
       "      <td>27-11-17</td>\n",
       "      <td>7:10</td>\n",
       "      <td>13</td>\n",
       "      <td>1</td>\n",
       "      <td>1</td>\n",
       "      <td>49</td>\n",
       "    </tr>\n",
       "    <tr>\n",
       "      <th>4</th>\n",
       "      <td>5778</td>\n",
       "      <td>11A</td>\n",
       "      <td>Mpesa</td>\n",
       "      <td>BM97HFRGL9</td>\n",
       "      <td>27-11-17</td>\n",
       "      <td>7:12</td>\n",
       "      <td>14</td>\n",
       "      <td>1</td>\n",
       "      <td>1</td>\n",
       "      <td>49</td>\n",
       "    </tr>\n",
       "    <tr>\n",
       "      <th>5</th>\n",
       "      <td>5777</td>\n",
       "      <td>18B</td>\n",
       "      <td>Mpesa</td>\n",
       "      <td>B6PBDU30IZ</td>\n",
       "      <td>27-11-17</td>\n",
       "      <td>7:10</td>\n",
       "      <td>13</td>\n",
       "      <td>1</td>\n",
       "      <td>1</td>\n",
       "      <td>49</td>\n",
       "    </tr>\n",
       "    <tr>\n",
       "      <th>6</th>\n",
       "      <td>5777</td>\n",
       "      <td>14A</td>\n",
       "      <td>Mpesa</td>\n",
       "      <td>MZHGDGS6QZ</td>\n",
       "      <td>27-11-17</td>\n",
       "      <td>7:10</td>\n",
       "      <td>13</td>\n",
       "      <td>1</td>\n",
       "      <td>1</td>\n",
       "      <td>49</td>\n",
       "    </tr>\n",
       "    <tr>\n",
       "      <th>7</th>\n",
       "      <td>5778</td>\n",
       "      <td>25</td>\n",
       "      <td>Mpesa</td>\n",
       "      <td>MYVTYFNXDZ</td>\n",
       "      <td>27-11-17</td>\n",
       "      <td>7:12</td>\n",
       "      <td>14</td>\n",
       "      <td>1</td>\n",
       "      <td>1</td>\n",
       "      <td>49</td>\n",
       "    </tr>\n",
       "    <tr>\n",
       "      <th>8</th>\n",
       "      <td>5778</td>\n",
       "      <td>21B</td>\n",
       "      <td>Mpesa</td>\n",
       "      <td>TE1WYK1NYE</td>\n",
       "      <td>27-11-17</td>\n",
       "      <td>7:12</td>\n",
       "      <td>14</td>\n",
       "      <td>1</td>\n",
       "      <td>1</td>\n",
       "      <td>49</td>\n",
       "    </tr>\n",
       "    <tr>\n",
       "      <th>9</th>\n",
       "      <td>5781</td>\n",
       "      <td>22A</td>\n",
       "      <td>Mpesa</td>\n",
       "      <td>VGG7Q3MVJX</td>\n",
       "      <td>27-11-17</td>\n",
       "      <td>7:09</td>\n",
       "      <td>13</td>\n",
       "      <td>1</td>\n",
       "      <td>1</td>\n",
       "      <td>49</td>\n",
       "    </tr>\n",
       "  </tbody>\n",
       "</table>\n",
       "</div>"
      ],
      "text/plain": [
       "   ride_id seat_number payment_method payment_receipt travel_date travel_time  \\\n",
       "0     1442         15A          Mpesa      UZUEHCBUSO    17-10-17        7:15   \n",
       "1     5437         14A          Mpesa      TIHLBUSGTE    19-11-17        7:12   \n",
       "2     5710          8B          Mpesa      EQX8Q5G19O    26-11-17        7:05   \n",
       "3     5777         19A          Mpesa      SGP18CL0ME    27-11-17        7:10   \n",
       "4     5778         11A          Mpesa      BM97HFRGL9    27-11-17        7:12   \n",
       "5     5777         18B          Mpesa      B6PBDU30IZ    27-11-17        7:10   \n",
       "6     5777         14A          Mpesa      MZHGDGS6QZ    27-11-17        7:10   \n",
       "7     5778          25          Mpesa      MYVTYFNXDZ    27-11-17        7:12   \n",
       "8     5778         21B          Mpesa      TE1WYK1NYE    27-11-17        7:12   \n",
       "9     5781         22A          Mpesa      VGG7Q3MVJX    27-11-17        7:09   \n",
       "\n",
       "   travel_from  travel_to  car_type  max_capacity  \n",
       "0           14          1         1            49  \n",
       "1           14          1         1            49  \n",
       "2           15          1         1            49  \n",
       "3           13          1         1            49  \n",
       "4           14          1         1            49  \n",
       "5           13          1         1            49  \n",
       "6           13          1         1            49  \n",
       "7           14          1         1            49  \n",
       "8           14          1         1            49  \n",
       "9           13          1         1            49  "
      ]
     },
     "execution_count": 65,
     "metadata": {},
     "output_type": "execute_result"
    }
   ],
   "source": [
    "df.head(10)"
   ]
  },
  {
   "cell_type": "code",
   "execution_count": 66,
   "metadata": {},
   "outputs": [
    {
     "name": "stdout",
     "output_type": "stream",
     "text": [
      "<class 'pandas.core.frame.DataFrame'>\n",
      "RangeIndex: 51645 entries, 0 to 51644\n",
      "Data columns (total 10 columns):\n",
      "ride_id            51645 non-null int64\n",
      "seat_number        51645 non-null object\n",
      "payment_method     51645 non-null object\n",
      "payment_receipt    51645 non-null object\n",
      "travel_date        51645 non-null object\n",
      "travel_time        51645 non-null object\n",
      "travel_from        51645 non-null int64\n",
      "travel_to          51645 non-null int64\n",
      "car_type           51645 non-null int64\n",
      "max_capacity       51645 non-null int64\n",
      "dtypes: int64(5), object(5)\n",
      "memory usage: 3.9+ MB\n"
     ]
    }
   ],
   "source": [
    "df.info()"
   ]
  },
  {
   "cell_type": "code",
   "execution_count": 79,
   "metadata": {},
   "outputs": [],
   "source": [
    "num = pd.DataFrame({\n",
    "    'ride_id':df['ride_id'],\n",
    "    'number_of_tickets':1})"
   ]
  },
  {
   "cell_type": "code",
   "execution_count": 80,
   "metadata": {},
   "outputs": [
    {
     "data": {
      "text/html": [
       "<div>\n",
       "<style scoped>\n",
       "    .dataframe tbody tr th:only-of-type {\n",
       "        vertical-align: middle;\n",
       "    }\n",
       "\n",
       "    .dataframe tbody tr th {\n",
       "        vertical-align: top;\n",
       "    }\n",
       "\n",
       "    .dataframe thead th {\n",
       "        text-align: right;\n",
       "    }\n",
       "</style>\n",
       "<table border=\"1\" class=\"dataframe\">\n",
       "  <thead>\n",
       "    <tr style=\"text-align: right;\">\n",
       "      <th></th>\n",
       "      <th>number_of_tickets</th>\n",
       "    </tr>\n",
       "    <tr>\n",
       "      <th>ride_id</th>\n",
       "      <th></th>\n",
       "    </tr>\n",
       "  </thead>\n",
       "  <tbody>\n",
       "    <tr>\n",
       "      <th>1442</th>\n",
       "      <td>1</td>\n",
       "    </tr>\n",
       "    <tr>\n",
       "      <th>5437</th>\n",
       "      <td>1</td>\n",
       "    </tr>\n",
       "    <tr>\n",
       "      <th>5710</th>\n",
       "      <td>1</td>\n",
       "    </tr>\n",
       "    <tr>\n",
       "      <th>5777</th>\n",
       "      <td>5</td>\n",
       "    </tr>\n",
       "    <tr>\n",
       "      <th>5778</th>\n",
       "      <td>31</td>\n",
       "    </tr>\n",
       "  </tbody>\n",
       "</table>\n",
       "</div>"
      ],
      "text/plain": [
       "         number_of_tickets\n",
       "ride_id                   \n",
       "1442                     1\n",
       "5437                     1\n",
       "5710                     1\n",
       "5777                     5\n",
       "5778                    31"
      ]
     },
     "execution_count": 80,
     "metadata": {},
     "output_type": "execute_result"
    }
   ],
   "source": [
    "num = num.groupby('ride_id').sum()\n",
    "num.head()"
   ]
  },
  {
   "cell_type": "code",
   "execution_count": 81,
   "metadata": {},
   "outputs": [],
   "source": [
    "num = num.merge(df, how='inner', left_on='ride_id', right_on='ride_id', left_index=False, right_index=False)"
   ]
  },
  {
   "cell_type": "code",
   "execution_count": 82,
   "metadata": {},
   "outputs": [
    {
     "name": "stdout",
     "output_type": "stream",
     "text": [
      "<class 'pandas.core.frame.DataFrame'>\n",
      "Int64Index: 51645 entries, 0 to 51644\n",
      "Data columns (total 11 columns):\n",
      "ride_id              51645 non-null int64\n",
      "number_of_tickets    51645 non-null int64\n",
      "seat_number          51645 non-null object\n",
      "payment_method       51645 non-null object\n",
      "payment_receipt      51645 non-null object\n",
      "travel_date          51645 non-null object\n",
      "travel_time          51645 non-null object\n",
      "travel_from          51645 non-null int64\n",
      "travel_to            51645 non-null int64\n",
      "car_type             51645 non-null int64\n",
      "max_capacity         51645 non-null int64\n",
      "dtypes: int64(6), object(5)\n",
      "memory usage: 4.7+ MB\n"
     ]
    }
   ],
   "source": [
    "num.info()"
   ]
  },
  {
   "cell_type": "code",
   "execution_count": 84,
   "metadata": {},
   "outputs": [
    {
     "data": {
      "text/html": [
       "<div>\n",
       "<style scoped>\n",
       "    .dataframe tbody tr th:only-of-type {\n",
       "        vertical-align: middle;\n",
       "    }\n",
       "\n",
       "    .dataframe tbody tr th {\n",
       "        vertical-align: top;\n",
       "    }\n",
       "\n",
       "    .dataframe thead th {\n",
       "        text-align: right;\n",
       "    }\n",
       "</style>\n",
       "<table border=\"1\" class=\"dataframe\">\n",
       "  <thead>\n",
       "    <tr style=\"text-align: right;\">\n",
       "      <th></th>\n",
       "      <th>ride_id</th>\n",
       "      <th>number_of_tickets</th>\n",
       "      <th>seat_number</th>\n",
       "      <th>payment_method</th>\n",
       "      <th>payment_receipt</th>\n",
       "      <th>travel_date</th>\n",
       "      <th>travel_time</th>\n",
       "      <th>travel_from</th>\n",
       "      <th>travel_to</th>\n",
       "      <th>car_type</th>\n",
       "      <th>max_capacity</th>\n",
       "    </tr>\n",
       "  </thead>\n",
       "  <tbody>\n",
       "    <tr>\n",
       "      <th>51635</th>\n",
       "      <td>20114</td>\n",
       "      <td>4</td>\n",
       "      <td>1B</td>\n",
       "      <td>Mpesa</td>\n",
       "      <td>JC859BFPRI</td>\n",
       "      <td>12-12-17</td>\n",
       "      <td>7:10</td>\n",
       "      <td>17</td>\n",
       "      <td>1</td>\n",
       "      <td>1</td>\n",
       "      <td>49</td>\n",
       "    </tr>\n",
       "    <tr>\n",
       "      <th>51636</th>\n",
       "      <td>20114</td>\n",
       "      <td>4</td>\n",
       "      <td>8A</td>\n",
       "      <td>Mpesa</td>\n",
       "      <td>0IYLH4FXBF</td>\n",
       "      <td>12-12-17</td>\n",
       "      <td>7:10</td>\n",
       "      <td>17</td>\n",
       "      <td>1</td>\n",
       "      <td>1</td>\n",
       "      <td>49</td>\n",
       "    </tr>\n",
       "    <tr>\n",
       "      <th>51637</th>\n",
       "      <td>20114</td>\n",
       "      <td>4</td>\n",
       "      <td>7A</td>\n",
       "      <td>Mpesa</td>\n",
       "      <td>SMFWRADOYR</td>\n",
       "      <td>12-12-17</td>\n",
       "      <td>7:10</td>\n",
       "      <td>17</td>\n",
       "      <td>1</td>\n",
       "      <td>1</td>\n",
       "      <td>49</td>\n",
       "    </tr>\n",
       "    <tr>\n",
       "      <th>51638</th>\n",
       "      <td>20115</td>\n",
       "      <td>5</td>\n",
       "      <td>3</td>\n",
       "      <td>Mpesa</td>\n",
       "      <td>S3VPRF5XX7</td>\n",
       "      <td>06-12-17</td>\n",
       "      <td>7:10</td>\n",
       "      <td>17</td>\n",
       "      <td>1</td>\n",
       "      <td>0</td>\n",
       "      <td>11</td>\n",
       "    </tr>\n",
       "    <tr>\n",
       "      <th>51639</th>\n",
       "      <td>20115</td>\n",
       "      <td>5</td>\n",
       "      <td>2</td>\n",
       "      <td>Mpesa</td>\n",
       "      <td>UBXFINPUSN</td>\n",
       "      <td>06-12-17</td>\n",
       "      <td>7:10</td>\n",
       "      <td>17</td>\n",
       "      <td>1</td>\n",
       "      <td>0</td>\n",
       "      <td>11</td>\n",
       "    </tr>\n",
       "    <tr>\n",
       "      <th>51640</th>\n",
       "      <td>20115</td>\n",
       "      <td>5</td>\n",
       "      <td>10</td>\n",
       "      <td>Mpesa</td>\n",
       "      <td>LLS9SJZO1E</td>\n",
       "      <td>06-12-17</td>\n",
       "      <td>7:10</td>\n",
       "      <td>17</td>\n",
       "      <td>1</td>\n",
       "      <td>0</td>\n",
       "      <td>11</td>\n",
       "    </tr>\n",
       "    <tr>\n",
       "      <th>51641</th>\n",
       "      <td>20115</td>\n",
       "      <td>5</td>\n",
       "      <td>4</td>\n",
       "      <td>Mpesa</td>\n",
       "      <td>LIRY6BWXQG</td>\n",
       "      <td>06-12-17</td>\n",
       "      <td>7:10</td>\n",
       "      <td>17</td>\n",
       "      <td>1</td>\n",
       "      <td>0</td>\n",
       "      <td>11</td>\n",
       "    </tr>\n",
       "    <tr>\n",
       "      <th>51642</th>\n",
       "      <td>20115</td>\n",
       "      <td>5</td>\n",
       "      <td>1</td>\n",
       "      <td>Mpesa</td>\n",
       "      <td>QXBTMGBSWA</td>\n",
       "      <td>06-12-17</td>\n",
       "      <td>7:10</td>\n",
       "      <td>17</td>\n",
       "      <td>1</td>\n",
       "      <td>0</td>\n",
       "      <td>11</td>\n",
       "    </tr>\n",
       "    <tr>\n",
       "      <th>51643</th>\n",
       "      <td>20116</td>\n",
       "      <td>1</td>\n",
       "      <td>6</td>\n",
       "      <td>Mpesa</td>\n",
       "      <td>EZHIPJIS2T</td>\n",
       "      <td>27-11-17</td>\n",
       "      <td>7:10</td>\n",
       "      <td>17</td>\n",
       "      <td>1</td>\n",
       "      <td>0</td>\n",
       "      <td>11</td>\n",
       "    </tr>\n",
       "    <tr>\n",
       "      <th>51644</th>\n",
       "      <td>20117</td>\n",
       "      <td>1</td>\n",
       "      <td>1X</td>\n",
       "      <td>Mpesa</td>\n",
       "      <td>BUSNKXBGQS</td>\n",
       "      <td>27-11-17</td>\n",
       "      <td>5:00</td>\n",
       "      <td>17</td>\n",
       "      <td>1</td>\n",
       "      <td>1</td>\n",
       "      <td>49</td>\n",
       "    </tr>\n",
       "  </tbody>\n",
       "</table>\n",
       "</div>"
      ],
      "text/plain": [
       "       ride_id  number_of_tickets seat_number payment_method payment_receipt  \\\n",
       "51635    20114                  4          1B          Mpesa      JC859BFPRI   \n",
       "51636    20114                  4          8A          Mpesa      0IYLH4FXBF   \n",
       "51637    20114                  4          7A          Mpesa      SMFWRADOYR   \n",
       "51638    20115                  5           3          Mpesa      S3VPRF5XX7   \n",
       "51639    20115                  5           2          Mpesa      UBXFINPUSN   \n",
       "51640    20115                  5          10          Mpesa      LLS9SJZO1E   \n",
       "51641    20115                  5           4          Mpesa      LIRY6BWXQG   \n",
       "51642    20115                  5           1          Mpesa      QXBTMGBSWA   \n",
       "51643    20116                  1           6          Mpesa      EZHIPJIS2T   \n",
       "51644    20117                  1          1X          Mpesa      BUSNKXBGQS   \n",
       "\n",
       "      travel_date travel_time  travel_from  travel_to  car_type  max_capacity  \n",
       "51635    12-12-17        7:10           17          1         1            49  \n",
       "51636    12-12-17        7:10           17          1         1            49  \n",
       "51637    12-12-17        7:10           17          1         1            49  \n",
       "51638    06-12-17        7:10           17          1         0            11  \n",
       "51639    06-12-17        7:10           17          1         0            11  \n",
       "51640    06-12-17        7:10           17          1         0            11  \n",
       "51641    06-12-17        7:10           17          1         0            11  \n",
       "51642    06-12-17        7:10           17          1         0            11  \n",
       "51643    27-11-17        7:10           17          1         0            11  \n",
       "51644    27-11-17        5:00           17          1         1            49  "
      ]
     },
     "execution_count": 84,
     "metadata": {},
     "output_type": "execute_result"
    }
   ],
   "source": [
    "num.tail(10)"
   ]
  },
  {
   "cell_type": "code",
   "execution_count": 85,
   "metadata": {},
   "outputs": [],
   "source": [
    "num.drop_duplicates(subset='ride_id', keep='first', inplace=True)"
   ]
  },
  {
   "cell_type": "code",
   "execution_count": 86,
   "metadata": {},
   "outputs": [
    {
     "data": {
      "text/html": [
       "<div>\n",
       "<style scoped>\n",
       "    .dataframe tbody tr th:only-of-type {\n",
       "        vertical-align: middle;\n",
       "    }\n",
       "\n",
       "    .dataframe tbody tr th {\n",
       "        vertical-align: top;\n",
       "    }\n",
       "\n",
       "    .dataframe thead th {\n",
       "        text-align: right;\n",
       "    }\n",
       "</style>\n",
       "<table border=\"1\" class=\"dataframe\">\n",
       "  <thead>\n",
       "    <tr style=\"text-align: right;\">\n",
       "      <th></th>\n",
       "      <th>ride_id</th>\n",
       "      <th>number_of_tickets</th>\n",
       "      <th>seat_number</th>\n",
       "      <th>payment_method</th>\n",
       "      <th>payment_receipt</th>\n",
       "      <th>travel_date</th>\n",
       "      <th>travel_time</th>\n",
       "      <th>travel_from</th>\n",
       "      <th>travel_to</th>\n",
       "      <th>car_type</th>\n",
       "      <th>max_capacity</th>\n",
       "    </tr>\n",
       "  </thead>\n",
       "  <tbody>\n",
       "    <tr>\n",
       "      <th>0</th>\n",
       "      <td>1442</td>\n",
       "      <td>1</td>\n",
       "      <td>15A</td>\n",
       "      <td>Mpesa</td>\n",
       "      <td>UZUEHCBUSO</td>\n",
       "      <td>17-10-17</td>\n",
       "      <td>7:15</td>\n",
       "      <td>14</td>\n",
       "      <td>1</td>\n",
       "      <td>1</td>\n",
       "      <td>49</td>\n",
       "    </tr>\n",
       "    <tr>\n",
       "      <th>1</th>\n",
       "      <td>5437</td>\n",
       "      <td>1</td>\n",
       "      <td>14A</td>\n",
       "      <td>Mpesa</td>\n",
       "      <td>TIHLBUSGTE</td>\n",
       "      <td>19-11-17</td>\n",
       "      <td>7:12</td>\n",
       "      <td>14</td>\n",
       "      <td>1</td>\n",
       "      <td>1</td>\n",
       "      <td>49</td>\n",
       "    </tr>\n",
       "    <tr>\n",
       "      <th>2</th>\n",
       "      <td>5710</td>\n",
       "      <td>1</td>\n",
       "      <td>8B</td>\n",
       "      <td>Mpesa</td>\n",
       "      <td>EQX8Q5G19O</td>\n",
       "      <td>26-11-17</td>\n",
       "      <td>7:05</td>\n",
       "      <td>15</td>\n",
       "      <td>1</td>\n",
       "      <td>1</td>\n",
       "      <td>49</td>\n",
       "    </tr>\n",
       "    <tr>\n",
       "      <th>3</th>\n",
       "      <td>5777</td>\n",
       "      <td>5</td>\n",
       "      <td>19A</td>\n",
       "      <td>Mpesa</td>\n",
       "      <td>SGP18CL0ME</td>\n",
       "      <td>27-11-17</td>\n",
       "      <td>7:10</td>\n",
       "      <td>13</td>\n",
       "      <td>1</td>\n",
       "      <td>1</td>\n",
       "      <td>49</td>\n",
       "    </tr>\n",
       "    <tr>\n",
       "      <th>8</th>\n",
       "      <td>5778</td>\n",
       "      <td>31</td>\n",
       "      <td>11A</td>\n",
       "      <td>Mpesa</td>\n",
       "      <td>BM97HFRGL9</td>\n",
       "      <td>27-11-17</td>\n",
       "      <td>7:12</td>\n",
       "      <td>14</td>\n",
       "      <td>1</td>\n",
       "      <td>1</td>\n",
       "      <td>49</td>\n",
       "    </tr>\n",
       "    <tr>\n",
       "      <th>39</th>\n",
       "      <td>5781</td>\n",
       "      <td>26</td>\n",
       "      <td>22A</td>\n",
       "      <td>Mpesa</td>\n",
       "      <td>VGG7Q3MVJX</td>\n",
       "      <td>27-11-17</td>\n",
       "      <td>7:09</td>\n",
       "      <td>13</td>\n",
       "      <td>1</td>\n",
       "      <td>1</td>\n",
       "      <td>49</td>\n",
       "    </tr>\n",
       "    <tr>\n",
       "      <th>65</th>\n",
       "      <td>5784</td>\n",
       "      <td>1</td>\n",
       "      <td>1X</td>\n",
       "      <td>Mpesa</td>\n",
       "      <td>3OPU23FHRB</td>\n",
       "      <td>20-04-18</td>\n",
       "      <td>5:10</td>\n",
       "      <td>17</td>\n",
       "      <td>1</td>\n",
       "      <td>0</td>\n",
       "      <td>11</td>\n",
       "    </tr>\n",
       "    <tr>\n",
       "      <th>66</th>\n",
       "      <td>5789</td>\n",
       "      <td>1</td>\n",
       "      <td>1X</td>\n",
       "      <td>Mpesa</td>\n",
       "      <td>BPRX4UMFFN</td>\n",
       "      <td>20-04-18</td>\n",
       "      <td>9:50</td>\n",
       "      <td>17</td>\n",
       "      <td>1</td>\n",
       "      <td>0</td>\n",
       "      <td>11</td>\n",
       "    </tr>\n",
       "    <tr>\n",
       "      <th>67</th>\n",
       "      <td>5790</td>\n",
       "      <td>2</td>\n",
       "      <td>1B</td>\n",
       "      <td>Mpesa</td>\n",
       "      <td>DC8ABRSXXK</td>\n",
       "      <td>20-04-18</td>\n",
       "      <td>7:06</td>\n",
       "      <td>17</td>\n",
       "      <td>1</td>\n",
       "      <td>1</td>\n",
       "      <td>49</td>\n",
       "    </tr>\n",
       "    <tr>\n",
       "      <th>69</th>\n",
       "      <td>5791</td>\n",
       "      <td>1</td>\n",
       "      <td>1</td>\n",
       "      <td>Mpesa</td>\n",
       "      <td>HGQURN0SZS</td>\n",
       "      <td>20-04-18</td>\n",
       "      <td>6:00</td>\n",
       "      <td>17</td>\n",
       "      <td>1</td>\n",
       "      <td>0</td>\n",
       "      <td>11</td>\n",
       "    </tr>\n",
       "    <tr>\n",
       "      <th>70</th>\n",
       "      <td>5792</td>\n",
       "      <td>1</td>\n",
       "      <td>1</td>\n",
       "      <td>Mpesa</td>\n",
       "      <td>8D9V8HK2FC</td>\n",
       "      <td>20-04-18</td>\n",
       "      <td>5:50</td>\n",
       "      <td>17</td>\n",
       "      <td>1</td>\n",
       "      <td>0</td>\n",
       "      <td>11</td>\n",
       "    </tr>\n",
       "    <tr>\n",
       "      <th>71</th>\n",
       "      <td>5793</td>\n",
       "      <td>1</td>\n",
       "      <td>1</td>\n",
       "      <td>Mpesa</td>\n",
       "      <td>TTZQDYZHAB</td>\n",
       "      <td>20-04-18</td>\n",
       "      <td>10:58</td>\n",
       "      <td>17</td>\n",
       "      <td>1</td>\n",
       "      <td>0</td>\n",
       "      <td>11</td>\n",
       "    </tr>\n",
       "    <tr>\n",
       "      <th>72</th>\n",
       "      <td>5794</td>\n",
       "      <td>2</td>\n",
       "      <td>1</td>\n",
       "      <td>Mpesa</td>\n",
       "      <td>ETNVCDEZLR</td>\n",
       "      <td>20-04-18</td>\n",
       "      <td>6:50</td>\n",
       "      <td>17</td>\n",
       "      <td>1</td>\n",
       "      <td>0</td>\n",
       "      <td>11</td>\n",
       "    </tr>\n",
       "    <tr>\n",
       "      <th>74</th>\n",
       "      <td>5795</td>\n",
       "      <td>1</td>\n",
       "      <td>1</td>\n",
       "      <td>Mpesa</td>\n",
       "      <td>VIRXVJUIYX</td>\n",
       "      <td>20-04-18</td>\n",
       "      <td>5:30</td>\n",
       "      <td>17</td>\n",
       "      <td>1</td>\n",
       "      <td>0</td>\n",
       "      <td>11</td>\n",
       "    </tr>\n",
       "    <tr>\n",
       "      <th>75</th>\n",
       "      <td>5796</td>\n",
       "      <td>2</td>\n",
       "      <td>5</td>\n",
       "      <td>Mpesa</td>\n",
       "      <td>9CSSSQN2TN</td>\n",
       "      <td>20-04-18</td>\n",
       "      <td>6:40</td>\n",
       "      <td>17</td>\n",
       "      <td>1</td>\n",
       "      <td>0</td>\n",
       "      <td>11</td>\n",
       "    </tr>\n",
       "    <tr>\n",
       "      <th>77</th>\n",
       "      <td>5797</td>\n",
       "      <td>3</td>\n",
       "      <td>16B</td>\n",
       "      <td>Mpesa</td>\n",
       "      <td>PAHCAZCCYV</td>\n",
       "      <td>27-11-17</td>\n",
       "      <td>7:06</td>\n",
       "      <td>15</td>\n",
       "      <td>1</td>\n",
       "      <td>1</td>\n",
       "      <td>49</td>\n",
       "    </tr>\n",
       "    <tr>\n",
       "      <th>80</th>\n",
       "      <td>5798</td>\n",
       "      <td>1</td>\n",
       "      <td>8</td>\n",
       "      <td>Mpesa</td>\n",
       "      <td>E9VOECFN3N</td>\n",
       "      <td>20-04-18</td>\n",
       "      <td>9:10</td>\n",
       "      <td>17</td>\n",
       "      <td>1</td>\n",
       "      <td>0</td>\n",
       "      <td>11</td>\n",
       "    </tr>\n",
       "    <tr>\n",
       "      <th>81</th>\n",
       "      <td>5800</td>\n",
       "      <td>2</td>\n",
       "      <td>1X</td>\n",
       "      <td>Mpesa</td>\n",
       "      <td>CIBMZGHZMB</td>\n",
       "      <td>19-04-18</td>\n",
       "      <td>5:00</td>\n",
       "      <td>17</td>\n",
       "      <td>1</td>\n",
       "      <td>0</td>\n",
       "      <td>11</td>\n",
       "    </tr>\n",
       "    <tr>\n",
       "      <th>83</th>\n",
       "      <td>5801</td>\n",
       "      <td>11</td>\n",
       "      <td>10</td>\n",
       "      <td>Mpesa</td>\n",
       "      <td>850RJSQX3R</td>\n",
       "      <td>19-04-18</td>\n",
       "      <td>5:20</td>\n",
       "      <td>17</td>\n",
       "      <td>1</td>\n",
       "      <td>0</td>\n",
       "      <td>11</td>\n",
       "    </tr>\n",
       "    <tr>\n",
       "      <th>94</th>\n",
       "      <td>5802</td>\n",
       "      <td>3</td>\n",
       "      <td>3</td>\n",
       "      <td>Mpesa</td>\n",
       "      <td>VA9WZVBIKT</td>\n",
       "      <td>27-11-17</td>\n",
       "      <td>10:52</td>\n",
       "      <td>15</td>\n",
       "      <td>1</td>\n",
       "      <td>0</td>\n",
       "      <td>11</td>\n",
       "    </tr>\n",
       "    <tr>\n",
       "      <th>97</th>\n",
       "      <td>5803</td>\n",
       "      <td>11</td>\n",
       "      <td>10</td>\n",
       "      <td>Mpesa</td>\n",
       "      <td>YT1MAORM4I</td>\n",
       "      <td>19-04-18</td>\n",
       "      <td>5:10</td>\n",
       "      <td>17</td>\n",
       "      <td>1</td>\n",
       "      <td>0</td>\n",
       "      <td>11</td>\n",
       "    </tr>\n",
       "  </tbody>\n",
       "</table>\n",
       "</div>"
      ],
      "text/plain": [
       "    ride_id  number_of_tickets seat_number payment_method payment_receipt  \\\n",
       "0      1442                  1         15A          Mpesa      UZUEHCBUSO   \n",
       "1      5437                  1         14A          Mpesa      TIHLBUSGTE   \n",
       "2      5710                  1          8B          Mpesa      EQX8Q5G19O   \n",
       "3      5777                  5         19A          Mpesa      SGP18CL0ME   \n",
       "8      5778                 31         11A          Mpesa      BM97HFRGL9   \n",
       "39     5781                 26         22A          Mpesa      VGG7Q3MVJX   \n",
       "65     5784                  1          1X          Mpesa      3OPU23FHRB   \n",
       "66     5789                  1          1X          Mpesa      BPRX4UMFFN   \n",
       "67     5790                  2          1B          Mpesa      DC8ABRSXXK   \n",
       "69     5791                  1           1          Mpesa      HGQURN0SZS   \n",
       "70     5792                  1           1          Mpesa      8D9V8HK2FC   \n",
       "71     5793                  1           1          Mpesa      TTZQDYZHAB   \n",
       "72     5794                  2           1          Mpesa      ETNVCDEZLR   \n",
       "74     5795                  1           1          Mpesa      VIRXVJUIYX   \n",
       "75     5796                  2           5          Mpesa      9CSSSQN2TN   \n",
       "77     5797                  3         16B          Mpesa      PAHCAZCCYV   \n",
       "80     5798                  1           8          Mpesa      E9VOECFN3N   \n",
       "81     5800                  2          1X          Mpesa      CIBMZGHZMB   \n",
       "83     5801                 11          10          Mpesa      850RJSQX3R   \n",
       "94     5802                  3           3          Mpesa      VA9WZVBIKT   \n",
       "97     5803                 11          10          Mpesa      YT1MAORM4I   \n",
       "\n",
       "   travel_date travel_time  travel_from  travel_to  car_type  max_capacity  \n",
       "0     17-10-17        7:15           14          1         1            49  \n",
       "1     19-11-17        7:12           14          1         1            49  \n",
       "2     26-11-17        7:05           15          1         1            49  \n",
       "3     27-11-17        7:10           13          1         1            49  \n",
       "8     27-11-17        7:12           14          1         1            49  \n",
       "39    27-11-17        7:09           13          1         1            49  \n",
       "65    20-04-18        5:10           17          1         0            11  \n",
       "66    20-04-18        9:50           17          1         0            11  \n",
       "67    20-04-18        7:06           17          1         1            49  \n",
       "69    20-04-18        6:00           17          1         0            11  \n",
       "70    20-04-18        5:50           17          1         0            11  \n",
       "71    20-04-18       10:58           17          1         0            11  \n",
       "72    20-04-18        6:50           17          1         0            11  \n",
       "74    20-04-18        5:30           17          1         0            11  \n",
       "75    20-04-18        6:40           17          1         0            11  \n",
       "77    27-11-17        7:06           15          1         1            49  \n",
       "80    20-04-18        9:10           17          1         0            11  \n",
       "81    19-04-18        5:00           17          1         0            11  \n",
       "83    19-04-18        5:20           17          1         0            11  \n",
       "94    27-11-17       10:52           15          1         0            11  \n",
       "97    19-04-18        5:10           17          1         0            11  "
      ]
     },
     "execution_count": 86,
     "metadata": {},
     "output_type": "execute_result"
    }
   ],
   "source": [
    "num.head(21)"
   ]
  },
  {
   "cell_type": "code",
   "execution_count": 87,
   "metadata": {},
   "outputs": [
    {
     "data": {
      "text/plain": [
       "<matplotlib.axes._subplots.AxesSubplot at 0x7f767ada7160>"
      ]
     },
     "execution_count": 87,
     "metadata": {},
     "output_type": "execute_result"
    },
    {
     "data": {
      "image/png": "[encoded data removed]",
      "text/plain": [
       "<Figure size 792x288 with 1 Axes>"
      ]
     },
     "metadata": {},
     "output_type": "display_data"
    }
   ],
   "source": [
    "plt.figure(figsize=(11,4))\n",
    "sns.boxplot(x='travel_from', data=df)"
   ]
  },
  {
   "cell_type": "code",
   "execution_count": 88,
   "metadata": {},
   "outputs": [],
   "source": [
    "num['travel_date'] = pd.to_datetime(num['travel_date'])\n",
    "num['travel_date'] = (num['travel_date'] - num['travel_date'].min()) / np.timedelta64(1, 'D')\n",
    "\n",
    "H = num.travel_time.str.split(':')\n",
    "i, j = H.str[0], H.str[1]\n",
    "num['travel_time'] = i.astype(int) + (j.astype(float) / 60)\n"
   ]
  },
  {
   "cell_type": "code",
   "execution_count": 89,
   "metadata": {},
   "outputs": [
    {
     "data": {
      "text/html": [
       "<div>\n",
       "<style scoped>\n",
       "    .dataframe tbody tr th:only-of-type {\n",
       "        vertical-align: middle;\n",
       "    }\n",
       "\n",
       "    .dataframe tbody tr th {\n",
       "        vertical-align: top;\n",
       "    }\n",
       "\n",
       "    .dataframe thead th {\n",
       "        text-align: right;\n",
       "    }\n",
       "</style>\n",
       "<table border=\"1\" class=\"dataframe\">\n",
       "  <thead>\n",
       "    <tr style=\"text-align: right;\">\n",
       "      <th></th>\n",
       "      <th>ride_id</th>\n",
       "      <th>number_of_tickets</th>\n",
       "      <th>seat_number</th>\n",
       "      <th>payment_method</th>\n",
       "      <th>payment_receipt</th>\n",
       "      <th>travel_date</th>\n",
       "      <th>travel_time</th>\n",
       "      <th>travel_from</th>\n",
       "      <th>travel_to</th>\n",
       "      <th>car_type</th>\n",
       "      <th>max_capacity</th>\n",
       "    </tr>\n",
       "  </thead>\n",
       "  <tbody>\n",
       "    <tr>\n",
       "      <th>0</th>\n",
       "      <td>1442</td>\n",
       "      <td>1</td>\n",
       "      <td>15A</td>\n",
       "      <td>Mpesa</td>\n",
       "      <td>UZUEHCBUSO</td>\n",
       "      <td>278.0</td>\n",
       "      <td>7.250000</td>\n",
       "      <td>14</td>\n",
       "      <td>1</td>\n",
       "      <td>1</td>\n",
       "      <td>49</td>\n",
       "    </tr>\n",
       "    <tr>\n",
       "      <th>1</th>\n",
       "      <td>5437</td>\n",
       "      <td>1</td>\n",
       "      <td>14A</td>\n",
       "      <td>Mpesa</td>\n",
       "      <td>TIHLBUSGTE</td>\n",
       "      <td>311.0</td>\n",
       "      <td>7.200000</td>\n",
       "      <td>14</td>\n",
       "      <td>1</td>\n",
       "      <td>1</td>\n",
       "      <td>49</td>\n",
       "    </tr>\n",
       "    <tr>\n",
       "      <th>2</th>\n",
       "      <td>5710</td>\n",
       "      <td>1</td>\n",
       "      <td>8B</td>\n",
       "      <td>Mpesa</td>\n",
       "      <td>EQX8Q5G19O</td>\n",
       "      <td>318.0</td>\n",
       "      <td>7.083333</td>\n",
       "      <td>15</td>\n",
       "      <td>1</td>\n",
       "      <td>1</td>\n",
       "      <td>49</td>\n",
       "    </tr>\n",
       "    <tr>\n",
       "      <th>3</th>\n",
       "      <td>5777</td>\n",
       "      <td>5</td>\n",
       "      <td>19A</td>\n",
       "      <td>Mpesa</td>\n",
       "      <td>SGP18CL0ME</td>\n",
       "      <td>319.0</td>\n",
       "      <td>7.166667</td>\n",
       "      <td>13</td>\n",
       "      <td>1</td>\n",
       "      <td>1</td>\n",
       "      <td>49</td>\n",
       "    </tr>\n",
       "    <tr>\n",
       "      <th>8</th>\n",
       "      <td>5778</td>\n",
       "      <td>31</td>\n",
       "      <td>11A</td>\n",
       "      <td>Mpesa</td>\n",
       "      <td>BM97HFRGL9</td>\n",
       "      <td>319.0</td>\n",
       "      <td>7.200000</td>\n",
       "      <td>14</td>\n",
       "      <td>1</td>\n",
       "      <td>1</td>\n",
       "      <td>49</td>\n",
       "    </tr>\n",
       "    <tr>\n",
       "      <th>39</th>\n",
       "      <td>5781</td>\n",
       "      <td>26</td>\n",
       "      <td>22A</td>\n",
       "      <td>Mpesa</td>\n",
       "      <td>VGG7Q3MVJX</td>\n",
       "      <td>319.0</td>\n",
       "      <td>7.150000</td>\n",
       "      <td>13</td>\n",
       "      <td>1</td>\n",
       "      <td>1</td>\n",
       "      <td>49</td>\n",
       "    </tr>\n",
       "    <tr>\n",
       "      <th>65</th>\n",
       "      <td>5784</td>\n",
       "      <td>1</td>\n",
       "      <td>1X</td>\n",
       "      <td>Mpesa</td>\n",
       "      <td>3OPU23FHRB</td>\n",
       "      <td>463.0</td>\n",
       "      <td>5.166667</td>\n",
       "      <td>17</td>\n",
       "      <td>1</td>\n",
       "      <td>0</td>\n",
       "      <td>11</td>\n",
       "    </tr>\n",
       "    <tr>\n",
       "      <th>66</th>\n",
       "      <td>5789</td>\n",
       "      <td>1</td>\n",
       "      <td>1X</td>\n",
       "      <td>Mpesa</td>\n",
       "      <td>BPRX4UMFFN</td>\n",
       "      <td>463.0</td>\n",
       "      <td>9.833333</td>\n",
       "      <td>17</td>\n",
       "      <td>1</td>\n",
       "      <td>0</td>\n",
       "      <td>11</td>\n",
       "    </tr>\n",
       "    <tr>\n",
       "      <th>67</th>\n",
       "      <td>5790</td>\n",
       "      <td>2</td>\n",
       "      <td>1B</td>\n",
       "      <td>Mpesa</td>\n",
       "      <td>DC8ABRSXXK</td>\n",
       "      <td>463.0</td>\n",
       "      <td>7.100000</td>\n",
       "      <td>17</td>\n",
       "      <td>1</td>\n",
       "      <td>1</td>\n",
       "      <td>49</td>\n",
       "    </tr>\n",
       "    <tr>\n",
       "      <th>69</th>\n",
       "      <td>5791</td>\n",
       "      <td>1</td>\n",
       "      <td>1</td>\n",
       "      <td>Mpesa</td>\n",
       "      <td>HGQURN0SZS</td>\n",
       "      <td>463.0</td>\n",
       "      <td>6.000000</td>\n",
       "      <td>17</td>\n",
       "      <td>1</td>\n",
       "      <td>0</td>\n",
       "      <td>11</td>\n",
       "    </tr>\n",
       "    <tr>\n",
       "      <th>70</th>\n",
       "      <td>5792</td>\n",
       "      <td>1</td>\n",
       "      <td>1</td>\n",
       "      <td>Mpesa</td>\n",
       "      <td>8D9V8HK2FC</td>\n",
       "      <td>463.0</td>\n",
       "      <td>5.833333</td>\n",
       "      <td>17</td>\n",
       "      <td>1</td>\n",
       "      <td>0</td>\n",
       "      <td>11</td>\n",
       "    </tr>\n",
       "  </tbody>\n",
       "</table>\n",
       "</div>"
      ],
      "text/plain": [
       "    ride_id  number_of_tickets seat_number payment_method payment_receipt  \\\n",
       "0      1442                  1         15A          Mpesa      UZUEHCBUSO   \n",
       "1      5437                  1         14A          Mpesa      TIHLBUSGTE   \n",
       "2      5710                  1          8B          Mpesa      EQX8Q5G19O   \n",
       "3      5777                  5         19A          Mpesa      SGP18CL0ME   \n",
       "8      5778                 31         11A          Mpesa      BM97HFRGL9   \n",
       "39     5781                 26         22A          Mpesa      VGG7Q3MVJX   \n",
       "65     5784                  1          1X          Mpesa      3OPU23FHRB   \n",
       "66     5789                  1          1X          Mpesa      BPRX4UMFFN   \n",
       "67     5790                  2          1B          Mpesa      DC8ABRSXXK   \n",
       "69     5791                  1           1          Mpesa      HGQURN0SZS   \n",
       "70     5792                  1           1          Mpesa      8D9V8HK2FC   \n",
       "\n",
       "    travel_date  travel_time  travel_from  travel_to  car_type  max_capacity  \n",
       "0         278.0     7.250000           14          1         1            49  \n",
       "1         311.0     7.200000           14          1         1            49  \n",
       "2         318.0     7.083333           15          1         1            49  \n",
       "3         319.0     7.166667           13          1         1            49  \n",
       "8         319.0     7.200000           14          1         1            49  \n",
       "39        319.0     7.150000           13          1         1            49  \n",
       "65        463.0     5.166667           17          1         0            11  \n",
       "66        463.0     9.833333           17          1         0            11  \n",
       "67        463.0     7.100000           17          1         1            49  \n",
       "69        463.0     6.000000           17          1         0            11  \n",
       "70        463.0     5.833333           17          1         0            11  "
      ]
     },
     "execution_count": 89,
     "metadata": {},
     "output_type": "execute_result"
    }
   ],
   "source": [
    "num.head(11)"
   ]
  },
  {
   "cell_type": "code",
   "execution_count": 113,
   "metadata": {},
   "outputs": [
    {
     "data": {
      "text/html": [
       "<div>\n",
       "<style scoped>\n",
       "    .dataframe tbody tr th:only-of-type {\n",
       "        vertical-align: middle;\n",
       "    }\n",
       "\n",
       "    .dataframe tbody tr th {\n",
       "        vertical-align: top;\n",
       "    }\n",
       "\n",
       "    .dataframe thead th {\n",
       "        text-align: right;\n",
       "    }\n",
       "</style>\n",
       "<table border=\"1\" class=\"dataframe\">\n",
       "  <thead>\n",
       "    <tr style=\"text-align: right;\">\n",
       "      <th></th>\n",
       "      <th>ride_id</th>\n",
       "      <th>number_of_tickets</th>\n",
       "      <th>seat_number</th>\n",
       "      <th>payment_method</th>\n",
       "      <th>payment_receipt</th>\n",
       "      <th>travel_date</th>\n",
       "      <th>travel_time</th>\n",
       "      <th>travel_from</th>\n",
       "      <th>travel_to</th>\n",
       "      <th>car_type</th>\n",
       "      <th>max_capacity</th>\n",
       "      <th>traffic</th>\n",
       "      <th>event</th>\n",
       "      <th>convi</th>\n",
       "      <th>m_time</th>\n",
       "      <th>free</th>\n",
       "    </tr>\n",
       "  </thead>\n",
       "  <tbody>\n",
       "    <tr>\n",
       "      <th>0</th>\n",
       "      <td>1442</td>\n",
       "      <td>1</td>\n",
       "      <td>15A</td>\n",
       "      <td>Mpesa</td>\n",
       "      <td>UZUEHCBUSO</td>\n",
       "      <td>278.0</td>\n",
       "      <td>7.250000</td>\n",
       "      <td>14</td>\n",
       "      <td>1</td>\n",
       "      <td>1</td>\n",
       "      <td>49</td>\n",
       "      <td>0.244367</td>\n",
       "      <td>0.462002</td>\n",
       "      <td>0.201716</td>\n",
       "      <td>0.559861</td>\n",
       "      <td>1.890610</td>\n",
       "    </tr>\n",
       "    <tr>\n",
       "      <th>1</th>\n",
       "      <td>5437</td>\n",
       "      <td>1</td>\n",
       "      <td>14A</td>\n",
       "      <td>Mpesa</td>\n",
       "      <td>TIHLBUSGTE</td>\n",
       "      <td>311.0</td>\n",
       "      <td>7.200000</td>\n",
       "      <td>14</td>\n",
       "      <td>1</td>\n",
       "      <td>1</td>\n",
       "      <td>49</td>\n",
       "      <td>0.242681</td>\n",
       "      <td>0.412979</td>\n",
       "      <td>0.180312</td>\n",
       "      <td>0.622000</td>\n",
       "      <td>1.701735</td>\n",
       "    </tr>\n",
       "    <tr>\n",
       "      <th>2</th>\n",
       "      <td>5710</td>\n",
       "      <td>1</td>\n",
       "      <td>8B</td>\n",
       "      <td>Mpesa</td>\n",
       "      <td>EQX8Q5G19O</td>\n",
       "      <td>318.0</td>\n",
       "      <td>7.083333</td>\n",
       "      <td>15</td>\n",
       "      <td>1</td>\n",
       "      <td>1</td>\n",
       "      <td>49</td>\n",
       "      <td>0.255803</td>\n",
       "      <td>0.403889</td>\n",
       "      <td>0.176343</td>\n",
       "      <td>0.625694</td>\n",
       "      <td>1.578908</td>\n",
       "    </tr>\n",
       "    <tr>\n",
       "      <th>3</th>\n",
       "      <td>5777</td>\n",
       "      <td>5</td>\n",
       "      <td>19A</td>\n",
       "      <td>Mpesa</td>\n",
       "      <td>SGP18CL0ME</td>\n",
       "      <td>319.0</td>\n",
       "      <td>7.166667</td>\n",
       "      <td>13</td>\n",
       "      <td>1</td>\n",
       "      <td>1</td>\n",
       "      <td>49</td>\n",
       "      <td>0.224304</td>\n",
       "      <td>0.402623</td>\n",
       "      <td>0.175790</td>\n",
       "      <td>0.635046</td>\n",
       "      <td>1.794988</td>\n",
       "    </tr>\n",
       "    <tr>\n",
       "      <th>8</th>\n",
       "      <td>5778</td>\n",
       "      <td>31</td>\n",
       "      <td>11A</td>\n",
       "      <td>Mpesa</td>\n",
       "      <td>BM97HFRGL9</td>\n",
       "      <td>319.0</td>\n",
       "      <td>7.200000</td>\n",
       "      <td>14</td>\n",
       "      <td>1</td>\n",
       "      <td>1</td>\n",
       "      <td>49</td>\n",
       "      <td>0.242681</td>\n",
       "      <td>0.402623</td>\n",
       "      <td>0.175790</td>\n",
       "      <td>0.638000</td>\n",
       "      <td>1.659058</td>\n",
       "    </tr>\n",
       "  </tbody>\n",
       "</table>\n",
       "</div>"
      ],
      "text/plain": [
       "   ride_id  number_of_tickets seat_number payment_method payment_receipt  \\\n",
       "0     1442                  1         15A          Mpesa      UZUEHCBUSO   \n",
       "1     5437                  1         14A          Mpesa      TIHLBUSGTE   \n",
       "2     5710                  1          8B          Mpesa      EQX8Q5G19O   \n",
       "3     5777                  5         19A          Mpesa      SGP18CL0ME   \n",
       "8     5778                 31         11A          Mpesa      BM97HFRGL9   \n",
       "\n",
       "   travel_date  travel_time  travel_from  travel_to  car_type  max_capacity  \\\n",
       "0        278.0     7.250000           14          1         1            49   \n",
       "1        311.0     7.200000           14          1         1            49   \n",
       "2        318.0     7.083333           15          1         1            49   \n",
       "3        319.0     7.166667           13          1         1            49   \n",
       "8        319.0     7.200000           14          1         1            49   \n",
       "\n",
       "    traffic     event     convi    m_time      free  \n",
       "0  0.244367  0.462002  0.201716  0.559861  1.890610  \n",
       "1  0.242681  0.412979  0.180312  0.622000  1.701735  \n",
       "2  0.255803  0.403889  0.176343  0.625694  1.578908  \n",
       "3  0.224304  0.402623  0.175790  0.635046  1.794988  \n",
       "8  0.242681  0.402623  0.175790  0.638000  1.659058  "
      ]
     },
     "execution_count": 113,
     "metadata": {},
     "output_type": "execute_result"
    }
   ],
   "source": [
    "num['traffic'] = (num['travel_from'] / num['travel_date'].mean()) * num['travel_time']\n",
    "num['event'] = (num['travel_date'].std() / num['travel_date'])\n",
    "num['convi'] = (num['travel_time'].std() / num['travel_date']) * num['max_capacity'].std()\n",
    "num['m_time'] = (num['travel_date'] * num['travel_time']) / 3600\n",
    "num['free'] = (num['event'] / num['traffic'])\n",
    "num.head()"
   ]
  },
  {
   "cell_type": "code",
   "execution_count": 114,
   "metadata": {},
   "outputs": [
    {
     "data": {
      "text/html": [
       "<div>\n",
       "<style scoped>\n",
       "    .dataframe tbody tr th:only-of-type {\n",
       "        vertical-align: middle;\n",
       "    }\n",
       "\n",
       "    .dataframe tbody tr th {\n",
       "        vertical-align: top;\n",
       "    }\n",
       "\n",
       "    .dataframe thead th {\n",
       "        text-align: right;\n",
       "    }\n",
       "</style>\n",
       "<table border=\"1\" class=\"dataframe\">\n",
       "  <thead>\n",
       "    <tr style=\"text-align: right;\">\n",
       "      <th></th>\n",
       "      <th>count</th>\n",
       "      <th>mean</th>\n",
       "      <th>std</th>\n",
       "      <th>min</th>\n",
       "      <th>25%</th>\n",
       "      <th>50%</th>\n",
       "      <th>75%</th>\n",
       "      <th>max</th>\n",
       "    </tr>\n",
       "  </thead>\n",
       "  <tbody>\n",
       "    <tr>\n",
       "      <th>ride_id</th>\n",
       "      <td>6249.0</td>\n",
       "      <td>9963.644583</td>\n",
       "      <td>2296.304872</td>\n",
       "      <td>1442.000000</td>\n",
       "      <td>7989.000000</td>\n",
       "      <td>10024.000000</td>\n",
       "      <td>11917.000000</td>\n",
       "      <td>2.011700e+04</td>\n",
       "    </tr>\n",
       "    <tr>\n",
       "      <th>number_of_tickets</th>\n",
       "      <td>6249.0</td>\n",
       "      <td>8.264522</td>\n",
       "      <td>8.632968</td>\n",
       "      <td>1.000000</td>\n",
       "      <td>2.000000</td>\n",
       "      <td>7.000000</td>\n",
       "      <td>11.000000</td>\n",
       "      <td>5.000000e+01</td>\n",
       "    </tr>\n",
       "    <tr>\n",
       "      <th>travel_date</th>\n",
       "      <td>6249.0</td>\n",
       "      <td>415.359257</td>\n",
       "      <td>128.436617</td>\n",
       "      <td>0.000000</td>\n",
       "      <td>350.000000</td>\n",
       "      <td>405.000000</td>\n",
       "      <td>460.000000</td>\n",
       "      <td>6.910000e+02</td>\n",
       "    </tr>\n",
       "    <tr>\n",
       "      <th>travel_time</th>\n",
       "      <td>6249.0</td>\n",
       "      <td>8.239828</td>\n",
       "      <td>2.951814</td>\n",
       "      <td>5.000000</td>\n",
       "      <td>7.066667</td>\n",
       "      <td>7.166667</td>\n",
       "      <td>8.666667</td>\n",
       "      <td>2.316667e+01</td>\n",
       "    </tr>\n",
       "    <tr>\n",
       "      <th>travel_from</th>\n",
       "      <td>6249.0</td>\n",
       "      <td>14.570171</td>\n",
       "      <td>3.108718</td>\n",
       "      <td>1.000000</td>\n",
       "      <td>12.000000</td>\n",
       "      <td>16.000000</td>\n",
       "      <td>17.000000</td>\n",
       "      <td>1.700000e+01</td>\n",
       "    </tr>\n",
       "    <tr>\n",
       "      <th>travel_to</th>\n",
       "      <td>6249.0</td>\n",
       "      <td>1.000000</td>\n",
       "      <td>0.000000</td>\n",
       "      <td>1.000000</td>\n",
       "      <td>1.000000</td>\n",
       "      <td>1.000000</td>\n",
       "      <td>1.000000</td>\n",
       "      <td>1.000000e+00</td>\n",
       "    </tr>\n",
       "    <tr>\n",
       "      <th>car_type</th>\n",
       "      <td>6249.0</td>\n",
       "      <td>0.510322</td>\n",
       "      <td>0.499933</td>\n",
       "      <td>0.000000</td>\n",
       "      <td>0.000000</td>\n",
       "      <td>1.000000</td>\n",
       "      <td>1.000000</td>\n",
       "      <td>1.000000e+00</td>\n",
       "    </tr>\n",
       "    <tr>\n",
       "      <th>max_capacity</th>\n",
       "      <td>6249.0</td>\n",
       "      <td>30.392223</td>\n",
       "      <td>18.997471</td>\n",
       "      <td>11.000000</td>\n",
       "      <td>11.000000</td>\n",
       "      <td>49.000000</td>\n",
       "      <td>49.000000</td>\n",
       "      <td>4.900000e+01</td>\n",
       "    </tr>\n",
       "    <tr>\n",
       "      <th>traffic</th>\n",
       "      <td>6249.0</td>\n",
       "      <td>0.289350</td>\n",
       "      <td>0.117346</td>\n",
       "      <td>0.016933</td>\n",
       "      <td>0.204642</td>\n",
       "      <td>0.269646</td>\n",
       "      <td>0.354713</td>\n",
       "      <td>7.824150e-01</td>\n",
       "    </tr>\n",
       "    <tr>\n",
       "      <th>event</th>\n",
       "      <td>6249.0</td>\n",
       "      <td>inf</td>\n",
       "      <td>NaN</td>\n",
       "      <td>0.185871</td>\n",
       "      <td>0.279210</td>\n",
       "      <td>0.317127</td>\n",
       "      <td>0.366962</td>\n",
       "      <td>inf</td>\n",
       "    </tr>\n",
       "    <tr>\n",
       "      <th>convi</th>\n",
       "      <td>6249.0</td>\n",
       "      <td>inf</td>\n",
       "      <td>NaN</td>\n",
       "      <td>0.081153</td>\n",
       "      <td>0.121907</td>\n",
       "      <td>0.138462</td>\n",
       "      <td>0.160220</td>\n",
       "      <td>inf</td>\n",
       "    </tr>\n",
       "    <tr>\n",
       "      <th>m_time</th>\n",
       "      <td>6249.0</td>\n",
       "      <td>0.952380</td>\n",
       "      <td>0.484888</td>\n",
       "      <td>0.000000</td>\n",
       "      <td>0.717500</td>\n",
       "      <td>0.859963</td>\n",
       "      <td>1.077431</td>\n",
       "      <td>4.446713e+00</td>\n",
       "    </tr>\n",
       "    <tr>\n",
       "      <th>free</th>\n",
       "      <td>6249.0</td>\n",
       "      <td>inf</td>\n",
       "      <td>NaN</td>\n",
       "      <td>0.238528</td>\n",
       "      <td>0.889478</td>\n",
       "      <td>1.205408</td>\n",
       "      <td>1.600292</td>\n",
       "      <td>inf</td>\n",
       "    </tr>\n",
       "  </tbody>\n",
       "</table>\n",
       "</div>"
      ],
      "text/plain": [
       "                    count         mean          std          min          25%  \\\n",
       "ride_id            6249.0  9963.644583  2296.304872  1442.000000  7989.000000   \n",
       "number_of_tickets  6249.0     8.264522     8.632968     1.000000     2.000000   \n",
       "travel_date        6249.0   415.359257   128.436617     0.000000   350.000000   \n",
       "travel_time        6249.0     8.239828     2.951814     5.000000     7.066667   \n",
       "travel_from        6249.0    14.570171     3.108718     1.000000    12.000000   \n",
       "travel_to          6249.0     1.000000     0.000000     1.000000     1.000000   \n",
       "car_type           6249.0     0.510322     0.499933     0.000000     0.000000   \n",
       "max_capacity       6249.0    30.392223    18.997471    11.000000    11.000000   \n",
       "traffic            6249.0     0.289350     0.117346     0.016933     0.204642   \n",
       "event              6249.0          inf          NaN     0.185871     0.279210   \n",
       "convi              6249.0          inf          NaN     0.081153     0.121907   \n",
       "m_time             6249.0     0.952380     0.484888     0.000000     0.717500   \n",
       "free               6249.0          inf          NaN     0.238528     0.889478   \n",
       "\n",
       "                            50%           75%           max  \n",
       "ride_id            10024.000000  11917.000000  2.011700e+04  \n",
       "number_of_tickets      7.000000     11.000000  5.000000e+01  \n",
       "travel_date          405.000000    460.000000  6.910000e+02  \n",
       "travel_time            7.166667      8.666667  2.316667e+01  \n",
       "travel_from           16.000000     17.000000  1.700000e+01  \n",
       "travel_to              1.000000      1.000000  1.000000e+00  \n",
       "car_type               1.000000      1.000000  1.000000e+00  \n",
       "max_capacity          49.000000     49.000000  4.900000e+01  \n",
       "traffic                0.269646      0.354713  7.824150e-01  \n",
       "event                  0.317127      0.366962           inf  \n",
       "convi                  0.138462      0.160220           inf  \n",
       "m_time                 0.859963      1.077431  4.446713e+00  \n",
       "free                   1.205408      1.600292           inf  "
      ]
     },
     "execution_count": 114,
     "metadata": {},
     "output_type": "execute_result"
    }
   ],
   "source": [
    "num.describe().transpose()"
   ]
  },
  {
   "cell_type": "code",
   "execution_count": 115,
   "metadata": {},
   "outputs": [
    {
     "data": {
      "text/html": [
       "<div>\n",
       "<style scoped>\n",
       "    .dataframe tbody tr th:only-of-type {\n",
       "        vertical-align: middle;\n",
       "    }\n",
       "\n",
       "    .dataframe tbody tr th {\n",
       "        vertical-align: top;\n",
       "    }\n",
       "\n",
       "    .dataframe thead th {\n",
       "        text-align: right;\n",
       "    }\n",
       "</style>\n",
       "<table border=\"1\" class=\"dataframe\">\n",
       "  <thead>\n",
       "    <tr style=\"text-align: right;\">\n",
       "      <th></th>\n",
       "      <th>number_of_tickets</th>\n",
       "      <th>travel_date</th>\n",
       "      <th>travel_time</th>\n",
       "      <th>travel_from</th>\n",
       "      <th>car_type</th>\n",
       "      <th>max_capacity</th>\n",
       "      <th>traffic</th>\n",
       "      <th>event</th>\n",
       "      <th>convi</th>\n",
       "      <th>m_time</th>\n",
       "      <th>free</th>\n",
       "    </tr>\n",
       "  </thead>\n",
       "  <tbody>\n",
       "    <tr>\n",
       "      <th>travel_from</th>\n",
       "      <td>-0.083835</td>\n",
       "      <td>-0.160110</td>\n",
       "      <td>0.014015</td>\n",
       "      <td>1.000000</td>\n",
       "      <td>-0.669830</td>\n",
       "      <td>-0.669830</td>\n",
       "      <td>0.562038</td>\n",
       "      <td>0.079539</td>\n",
       "      <td>0.079539</td>\n",
       "      <td>-0.113496</td>\n",
       "      <td>-0.251463</td>\n",
       "    </tr>\n",
       "    <tr>\n",
       "      <th>event</th>\n",
       "      <td>-0.033537</td>\n",
       "      <td>-0.629098</td>\n",
       "      <td>-0.006068</td>\n",
       "      <td>0.079539</td>\n",
       "      <td>-0.096177</td>\n",
       "      <td>-0.096177</td>\n",
       "      <td>0.050748</td>\n",
       "      <td>1.000000</td>\n",
       "      <td>1.000000</td>\n",
       "      <td>-0.374269</td>\n",
       "      <td>0.589207</td>\n",
       "    </tr>\n",
       "    <tr>\n",
       "      <th>travel_date</th>\n",
       "      <td>0.018615</td>\n",
       "      <td>1.000000</td>\n",
       "      <td>0.016033</td>\n",
       "      <td>-0.160110</td>\n",
       "      <td>0.141949</td>\n",
       "      <td>0.141949</td>\n",
       "      <td>-0.092769</td>\n",
       "      <td>-0.629098</td>\n",
       "      <td>-0.629098</td>\n",
       "      <td>0.627886</td>\n",
       "      <td>-0.338267</td>\n",
       "    </tr>\n",
       "    <tr>\n",
       "      <th>traffic</th>\n",
       "      <td>0.118419</td>\n",
       "      <td>-0.092769</td>\n",
       "      <td>0.795848</td>\n",
       "      <td>0.562038</td>\n",
       "      <td>-0.338301</td>\n",
       "      <td>-0.338301</td>\n",
       "      <td>1.000000</td>\n",
       "      <td>0.050748</td>\n",
       "      <td>0.050748</td>\n",
       "      <td>0.507105</td>\n",
       "      <td>-0.236155</td>\n",
       "    </tr>\n",
       "    <tr>\n",
       "      <th>travel_time</th>\n",
       "      <td>0.205832</td>\n",
       "      <td>0.016033</td>\n",
       "      <td>1.000000</td>\n",
       "      <td>0.014015</td>\n",
       "      <td>0.019499</td>\n",
       "      <td>0.019499</td>\n",
       "      <td>0.795848</td>\n",
       "      <td>-0.006068</td>\n",
       "      <td>-0.006068</td>\n",
       "      <td>0.760346</td>\n",
       "      <td>-0.152064</td>\n",
       "    </tr>\n",
       "    <tr>\n",
       "      <th>car_type</th>\n",
       "      <td>0.208762</td>\n",
       "      <td>0.141949</td>\n",
       "      <td>0.019499</td>\n",
       "      <td>-0.669830</td>\n",
       "      <td>1.000000</td>\n",
       "      <td>1.000000</td>\n",
       "      <td>-0.338301</td>\n",
       "      <td>-0.096177</td>\n",
       "      <td>-0.096177</td>\n",
       "      <td>0.110701</td>\n",
       "      <td>0.041047</td>\n",
       "    </tr>\n",
       "    <tr>\n",
       "      <th>max_capacity</th>\n",
       "      <td>0.208762</td>\n",
       "      <td>0.141949</td>\n",
       "      <td>0.019499</td>\n",
       "      <td>-0.669830</td>\n",
       "      <td>1.000000</td>\n",
       "      <td>1.000000</td>\n",
       "      <td>-0.338301</td>\n",
       "      <td>-0.096177</td>\n",
       "      <td>-0.096177</td>\n",
       "      <td>0.110701</td>\n",
       "      <td>0.041047</td>\n",
       "    </tr>\n",
       "    <tr>\n",
       "      <th>number_of_tickets</th>\n",
       "      <td>1.000000</td>\n",
       "      <td>0.018615</td>\n",
       "      <td>0.205832</td>\n",
       "      <td>-0.083835</td>\n",
       "      <td>0.208762</td>\n",
       "      <td>0.208762</td>\n",
       "      <td>0.118419</td>\n",
       "      <td>-0.033537</td>\n",
       "      <td>-0.033537</td>\n",
       "      <td>0.167468</td>\n",
       "      <td>-0.061856</td>\n",
       "    </tr>\n",
       "  </tbody>\n",
       "</table>\n",
       "</div>"
      ],
      "text/plain": [
       "                   number_of_tickets  travel_date  travel_time  travel_from  \\\n",
       "travel_from                -0.083835    -0.160110     0.014015     1.000000   \n",
       "event                      -0.033537    -0.629098    -0.006068     0.079539   \n",
       "travel_date                 0.018615     1.000000     0.016033    -0.160110   \n",
       "traffic                     0.118419    -0.092769     0.795848     0.562038   \n",
       "travel_time                 0.205832     0.016033     1.000000     0.014015   \n",
       "car_type                    0.208762     0.141949     0.019499    -0.669830   \n",
       "max_capacity                0.208762     0.141949     0.019499    -0.669830   \n",
       "number_of_tickets           1.000000     0.018615     0.205832    -0.083835   \n",
       "\n",
       "                   car_type  max_capacity   traffic     event     convi  \\\n",
       "travel_from       -0.669830     -0.669830  0.562038  0.079539  0.079539   \n",
       "event             -0.096177     -0.096177  0.050748  1.000000  1.000000   \n",
       "travel_date        0.141949      0.141949 -0.092769 -0.629098 -0.629098   \n",
       "traffic           -0.338301     -0.338301  1.000000  0.050748  0.050748   \n",
       "travel_time        0.019499      0.019499  0.795848 -0.006068 -0.006068   \n",
       "car_type           1.000000      1.000000 -0.338301 -0.096177 -0.096177   \n",
       "max_capacity       1.000000      1.000000 -0.338301 -0.096177 -0.096177   \n",
       "number_of_tickets  0.208762      0.208762  0.118419 -0.033537 -0.033537   \n",
       "\n",
       "                     m_time      free  \n",
       "travel_from       -0.113496 -0.251463  \n",
       "event             -0.374269  0.589207  \n",
       "travel_date        0.627886 -0.338267  \n",
       "traffic            0.507105 -0.236155  \n",
       "travel_time        0.760346 -0.152064  \n",
       "car_type           0.110701  0.041047  \n",
       "max_capacity       0.110701  0.041047  \n",
       "number_of_tickets  0.167468 -0.061856  "
      ]
     },
     "execution_count": 115,
     "metadata": {},
     "output_type": "execute_result"
    }
   ],
   "source": [
    "num.drop(['travel_to', 'ride_id'], axis=1).corr().head(8).sort_values(['number_of_tickets'], ascending=[2])"
   ]
  },
  {
   "cell_type": "code",
   "execution_count": 117,
   "metadata": {},
   "outputs": [
    {
     "data": {
      "text/plain": [
       "number_of_tickets    1.000000\n",
       "max_capacity         0.208762\n",
       "car_type             0.208762\n",
       "travel_time          0.205832\n",
       "m_time               0.167468\n",
       "traffic              0.118419\n",
       "ride_id              0.093817\n",
       "travel_date          0.018615\n",
       "Name: number_of_tickets, dtype: float64"
      ]
     },
     "execution_count": 117,
     "metadata": {},
     "output_type": "execute_result"
    }
   ],
   "source": [
    "# Top 10 numeric features positively correlated with SalePrice\n",
    "num.corr()['number_of_tickets'].sort_values(ascending=False).head(8) "
   ]
  },
  {
   "cell_type": "code",
   "execution_count": 118,
   "metadata": {},
   "outputs": [
    {
     "data": {
      "text/plain": [
       "Index(['number_of_tickets', 'max_capacity', 'car_type', 'travel_time',\n",
       "       'm_time', 'traffic', 'ride_id', 'travel_date'],\n",
       "      dtype='object')"
      ]
     },
     "execution_count": 118,
     "metadata": {},
     "output_type": "execute_result"
    }
   ],
   "source": [
    "top_corr_features = num.corr()['number_of_tickets'].sort_values(ascending=False).head(8).index\n",
    "top_corr_features"
   ]
  },
  {
   "cell_type": "code",
   "execution_count": 119,
   "metadata": {},
   "outputs": [
    {
     "data": {
      "text/plain": [
       "<matplotlib.axes._subplots.AxesSubplot at 0x7f76725d9cc0>"
      ]
     },
     "execution_count": 119,
     "metadata": {},
     "output_type": "execute_result"
    },
    {
     "data": {
      "image/png": "[encoded data removed]",
      "text/plain": [
       "<Figure size 936x432 with 2 Axes>"
      ]
     },
     "metadata": {},
     "output_type": "display_data"
    }
   ],
   "source": [
    "plt.figure(figsize=(13,6))\n",
    "sns.heatmap(num[top_corr_features].drop('ride_id', axis=1).corr(), annot=True)"
   ]
  },
  {
   "cell_type": "code",
   "execution_count": 120,
   "metadata": {},
   "outputs": [
    {
     "name": "stdout",
     "output_type": "stream",
     "text": [
      "<class 'pandas.core.frame.DataFrame'>\n",
      "Int64Index: 6249 entries, 0 to 51644\n",
      "Data columns (total 8 columns):\n",
      "number_of_tickets    6249 non-null int64\n",
      "max_capacity         6249 non-null int64\n",
      "car_type             6249 non-null int64\n",
      "travel_time          6249 non-null float64\n",
      "m_time               6249 non-null float64\n",
      "traffic              6249 non-null float64\n",
      "ride_id              6249 non-null int64\n",
      "travel_date          6249 non-null float64\n",
      "dtypes: float64(4), int64(4)\n",
      "memory usage: 439.4 KB\n"
     ]
    }
   ],
   "source": [
    "num[top_corr_features].info()"
   ]
  },
  {
   "cell_type": "code",
   "execution_count": 121,
   "metadata": {},
   "outputs": [
    {
     "data": {
      "text/html": [
       "<div>\n",
       "<style scoped>\n",
       "    .dataframe tbody tr th:only-of-type {\n",
       "        vertical-align: middle;\n",
       "    }\n",
       "\n",
       "    .dataframe tbody tr th {\n",
       "        vertical-align: top;\n",
       "    }\n",
       "\n",
       "    .dataframe thead th {\n",
       "        text-align: right;\n",
       "    }\n",
       "</style>\n",
       "<table border=\"1\" class=\"dataframe\">\n",
       "  <thead>\n",
       "    <tr style=\"text-align: right;\">\n",
       "      <th></th>\n",
       "      <th>max_capacity</th>\n",
       "      <th>car_type</th>\n",
       "      <th>travel_time</th>\n",
       "      <th>m_time</th>\n",
       "      <th>traffic</th>\n",
       "      <th>travel_date</th>\n",
       "    </tr>\n",
       "  </thead>\n",
       "  <tbody>\n",
       "    <tr>\n",
       "      <th>0</th>\n",
       "      <td>49</td>\n",
       "      <td>1</td>\n",
       "      <td>7.250000</td>\n",
       "      <td>0.559861</td>\n",
       "      <td>0.244367</td>\n",
       "      <td>278.0</td>\n",
       "    </tr>\n",
       "    <tr>\n",
       "      <th>1</th>\n",
       "      <td>49</td>\n",
       "      <td>1</td>\n",
       "      <td>7.200000</td>\n",
       "      <td>0.622000</td>\n",
       "      <td>0.242681</td>\n",
       "      <td>311.0</td>\n",
       "    </tr>\n",
       "    <tr>\n",
       "      <th>2</th>\n",
       "      <td>49</td>\n",
       "      <td>1</td>\n",
       "      <td>7.083333</td>\n",
       "      <td>0.625694</td>\n",
       "      <td>0.255803</td>\n",
       "      <td>318.0</td>\n",
       "    </tr>\n",
       "    <tr>\n",
       "      <th>3</th>\n",
       "      <td>49</td>\n",
       "      <td>1</td>\n",
       "      <td>7.166667</td>\n",
       "      <td>0.635046</td>\n",
       "      <td>0.224304</td>\n",
       "      <td>319.0</td>\n",
       "    </tr>\n",
       "    <tr>\n",
       "      <th>8</th>\n",
       "      <td>49</td>\n",
       "      <td>1</td>\n",
       "      <td>7.200000</td>\n",
       "      <td>0.638000</td>\n",
       "      <td>0.242681</td>\n",
       "      <td>319.0</td>\n",
       "    </tr>\n",
       "  </tbody>\n",
       "</table>\n",
       "</div>"
      ],
      "text/plain": [
       "   max_capacity  car_type  travel_time    m_time   traffic  travel_date\n",
       "0            49         1     7.250000  0.559861  0.244367        278.0\n",
       "1            49         1     7.200000  0.622000  0.242681        311.0\n",
       "2            49         1     7.083333  0.625694  0.255803        318.0\n",
       "3            49         1     7.166667  0.635046  0.224304        319.0\n",
       "8            49         1     7.200000  0.638000  0.242681        319.0"
      ]
     },
     "execution_count": 121,
     "metadata": {},
     "output_type": "execute_result"
    }
   ],
   "source": [
    "df = num[top_corr_features].drop(['number_of_tickets', 'ride_id'], axis=1)\n",
    "df.head()"
   ]
  },
  {
   "cell_type": "code",
   "execution_count": 122,
   "metadata": {},
   "outputs": [],
   "source": [
    "test = pd.read_csv('test.csv')\n",
    "t_id = test['ride_id']"
   ]
  },
  {
   "cell_type": "code",
   "execution_count": 123,
   "metadata": {},
   "outputs": [
    {
     "name": "stdout",
     "output_type": "stream",
     "text": [
      "<class 'pandas.core.frame.DataFrame'>\n",
      "RangeIndex: 1111 entries, 0 to 1110\n",
      "Data columns (total 7 columns):\n",
      "ride_id         1111 non-null int64\n",
      "travel_date     1111 non-null object\n",
      "travel_time     1111 non-null object\n",
      "travel_from     1111 non-null object\n",
      "travel_to       1111 non-null object\n",
      "car_type        1111 non-null object\n",
      "max_capacity    1111 non-null int64\n",
      "dtypes: int64(2), object(5)\n",
      "memory usage: 60.8+ KB\n"
     ]
    }
   ],
   "source": [
    "test.info()"
   ]
  },
  {
   "cell_type": "code",
   "execution_count": 124,
   "metadata": {},
   "outputs": [
    {
     "data": {
      "text/html": [
       "<div>\n",
       "<style scoped>\n",
       "    .dataframe tbody tr th:only-of-type {\n",
       "        vertical-align: middle;\n",
       "    }\n",
       "\n",
       "    .dataframe tbody tr th {\n",
       "        vertical-align: top;\n",
       "    }\n",
       "\n",
       "    .dataframe thead th {\n",
       "        text-align: right;\n",
       "    }\n",
       "</style>\n",
       "<table border=\"1\" class=\"dataframe\">\n",
       "  <thead>\n",
       "    <tr style=\"text-align: right;\">\n",
       "      <th></th>\n",
       "      <th>ride_id</th>\n",
       "      <th>travel_date</th>\n",
       "      <th>travel_time</th>\n",
       "      <th>travel_from</th>\n",
       "      <th>travel_to</th>\n",
       "      <th>car_type</th>\n",
       "      <th>max_capacity</th>\n",
       "    </tr>\n",
       "  </thead>\n",
       "  <tbody>\n",
       "    <tr>\n",
       "      <th>0</th>\n",
       "      <td>247</td>\n",
       "      <td>2018-05-07</td>\n",
       "      <td>07:06</td>\n",
       "      <td>Kisii</td>\n",
       "      <td>Nairobi</td>\n",
       "      <td>Bus</td>\n",
       "      <td>49</td>\n",
       "    </tr>\n",
       "    <tr>\n",
       "      <th>1</th>\n",
       "      <td>256</td>\n",
       "      <td>2018-05-06</td>\n",
       "      <td>11:08</td>\n",
       "      <td>Kisii</td>\n",
       "      <td>Nairobi</td>\n",
       "      <td>shuttle</td>\n",
       "      <td>11</td>\n",
       "    </tr>\n",
       "    <tr>\n",
       "      <th>2</th>\n",
       "      <td>275</td>\n",
       "      <td>2018-05-04</td>\n",
       "      <td>05:00</td>\n",
       "      <td>Kisii</td>\n",
       "      <td>Nairobi</td>\n",
       "      <td>shuttle</td>\n",
       "      <td>11</td>\n",
       "    </tr>\n",
       "    <tr>\n",
       "      <th>3</th>\n",
       "      <td>285</td>\n",
       "      <td>2018-05-04</td>\n",
       "      <td>09:10</td>\n",
       "      <td>Kisii</td>\n",
       "      <td>Nairobi</td>\n",
       "      <td>shuttle</td>\n",
       "      <td>11</td>\n",
       "    </tr>\n",
       "    <tr>\n",
       "      <th>4</th>\n",
       "      <td>286</td>\n",
       "      <td>2018-05-04</td>\n",
       "      <td>09:20</td>\n",
       "      <td>Kisii</td>\n",
       "      <td>Nairobi</td>\n",
       "      <td>shuttle</td>\n",
       "      <td>11</td>\n",
       "    </tr>\n",
       "  </tbody>\n",
       "</table>\n",
       "</div>"
      ],
      "text/plain": [
       "   ride_id travel_date travel_time travel_from travel_to car_type  \\\n",
       "0      247  2018-05-07       07:06       Kisii   Nairobi      Bus   \n",
       "1      256  2018-05-06       11:08       Kisii   Nairobi  shuttle   \n",
       "2      275  2018-05-04       05:00       Kisii   Nairobi  shuttle   \n",
       "3      285  2018-05-04       09:10       Kisii   Nairobi  shuttle   \n",
       "4      286  2018-05-04       09:20       Kisii   Nairobi  shuttle   \n",
       "\n",
       "   max_capacity  \n",
       "0            49  \n",
       "1            11  \n",
       "2            11  \n",
       "3            11  \n",
       "4            11  "
      ]
     },
     "execution_count": 124,
     "metadata": {},
     "output_type": "execute_result"
    }
   ],
   "source": [
    "test.head()"
   ]
  },
  {
   "cell_type": "code",
   "execution_count": 125,
   "metadata": {},
   "outputs": [],
   "source": [
    "values = {\n",
    "    'travel_from':{'Kisii':17, 'Migori':14, 'Homa Bay':13, 'Sirare':12, 'Rongo':11, 'Kehancha':10, 'Awendo':9,\n",
    "       'Kijauri':16, 'Keroka':15, 'Nyachenge':8, 'Rodi':7, 'Mbita':6, 'Ndhiwa':5, 'Sori':4,\n",
    "       'Keumbu':3, 'Oyugis':2, 'Kendu Bay':1},\n",
    "    'travel_to':{'Nairobi':1},\n",
    "    'car_type':{'Bus':1,'shuttle':0}\n",
    "}\n",
    "test.replace(values, inplace=True)"
   ]
  },
  {
   "cell_type": "code",
   "execution_count": 126,
   "metadata": {},
   "outputs": [],
   "source": [
    "test['travel_date'] = pd.to_datetime(test['travel_date'])\n",
    "test['travel_date'] = (test['travel_date'] - test['travel_date'].min()) / np.timedelta64(1, 'D')\n",
    "\n",
    "h = test.travel_time.str.split(':')\n",
    "i, j = h.str[0], h.str[1]\n",
    "test['travel_time'] = i.astype(int) + (j.astype(float) / 60)\n",
    "\n"
   ]
  },
  {
   "cell_type": "code",
   "execution_count": 127,
   "metadata": {},
   "outputs": [
    {
     "data": {
      "text/html": [
       "<div>\n",
       "<style scoped>\n",
       "    .dataframe tbody tr th:only-of-type {\n",
       "        vertical-align: middle;\n",
       "    }\n",
       "\n",
       "    .dataframe tbody tr th {\n",
       "        vertical-align: top;\n",
       "    }\n",
       "\n",
       "    .dataframe thead th {\n",
       "        text-align: right;\n",
       "    }\n",
       "</style>\n",
       "<table border=\"1\" class=\"dataframe\">\n",
       "  <thead>\n",
       "    <tr style=\"text-align: right;\">\n",
       "      <th></th>\n",
       "      <th>ride_id</th>\n",
       "      <th>travel_date</th>\n",
       "      <th>travel_time</th>\n",
       "      <th>travel_from</th>\n",
       "      <th>travel_to</th>\n",
       "      <th>car_type</th>\n",
       "      <th>max_capacity</th>\n",
       "      <th>traffic</th>\n",
       "      <th>event</th>\n",
       "      <th>convi</th>\n",
       "      <th>m_time</th>\n",
       "      <th>free</th>\n",
       "    </tr>\n",
       "  </thead>\n",
       "  <tbody>\n",
       "    <tr>\n",
       "      <th>0</th>\n",
       "      <td>247</td>\n",
       "      <td>16.0</td>\n",
       "      <td>7.100000</td>\n",
       "      <td>17</td>\n",
       "      <td>1</td>\n",
       "      <td>1</td>\n",
       "      <td>49</td>\n",
       "      <td>17.245075</td>\n",
       "      <td>0.249923</td>\n",
       "      <td>5.470339</td>\n",
       "      <td>0.031556</td>\n",
       "      <td>0.014492</td>\n",
       "    </tr>\n",
       "    <tr>\n",
       "      <th>1</th>\n",
       "      <td>256</td>\n",
       "      <td>15.0</td>\n",
       "      <td>11.133333</td>\n",
       "      <td>17</td>\n",
       "      <td>1</td>\n",
       "      <td>0</td>\n",
       "      <td>11</td>\n",
       "      <td>27.041572</td>\n",
       "      <td>0.266584</td>\n",
       "      <td>5.835028</td>\n",
       "      <td>0.046389</td>\n",
       "      <td>0.009858</td>\n",
       "    </tr>\n",
       "    <tr>\n",
       "      <th>2</th>\n",
       "      <td>275</td>\n",
       "      <td>13.0</td>\n",
       "      <td>5.000000</td>\n",
       "      <td>17</td>\n",
       "      <td>1</td>\n",
       "      <td>0</td>\n",
       "      <td>11</td>\n",
       "      <td>12.144419</td>\n",
       "      <td>0.307597</td>\n",
       "      <td>6.732725</td>\n",
       "      <td>0.018056</td>\n",
       "      <td>0.025328</td>\n",
       "    </tr>\n",
       "    <tr>\n",
       "      <th>3</th>\n",
       "      <td>285</td>\n",
       "      <td>13.0</td>\n",
       "      <td>9.166667</td>\n",
       "      <td>17</td>\n",
       "      <td>1</td>\n",
       "      <td>0</td>\n",
       "      <td>11</td>\n",
       "      <td>22.264768</td>\n",
       "      <td>0.307597</td>\n",
       "      <td>6.732725</td>\n",
       "      <td>0.033102</td>\n",
       "      <td>0.013815</td>\n",
       "    </tr>\n",
       "    <tr>\n",
       "      <th>4</th>\n",
       "      <td>286</td>\n",
       "      <td>13.0</td>\n",
       "      <td>9.333333</td>\n",
       "      <td>17</td>\n",
       "      <td>1</td>\n",
       "      <td>0</td>\n",
       "      <td>11</td>\n",
       "      <td>22.669582</td>\n",
       "      <td>0.307597</td>\n",
       "      <td>6.732725</td>\n",
       "      <td>0.033704</td>\n",
       "      <td>0.013569</td>\n",
       "    </tr>\n",
       "  </tbody>\n",
       "</table>\n",
       "</div>"
      ],
      "text/plain": [
       "   ride_id  travel_date  travel_time  travel_from  travel_to  car_type  \\\n",
       "0      247         16.0     7.100000           17          1         1   \n",
       "1      256         15.0    11.133333           17          1         0   \n",
       "2      275         13.0     5.000000           17          1         0   \n",
       "3      285         13.0     9.166667           17          1         0   \n",
       "4      286         13.0     9.333333           17          1         0   \n",
       "\n",
       "   max_capacity    traffic     event     convi    m_time      free  \n",
       "0            49  17.245075  0.249923  5.470339  0.031556  0.014492  \n",
       "1            11  27.041572  0.266584  5.835028  0.046389  0.009858  \n",
       "2            11  12.144419  0.307597  6.732725  0.018056  0.025328  \n",
       "3            11  22.264768  0.307597  6.732725  0.033102  0.013815  \n",
       "4            11  22.669582  0.307597  6.732725  0.033704  0.013569  "
      ]
     },
     "execution_count": 127,
     "metadata": {},
     "output_type": "execute_result"
    }
   ],
   "source": [
    "test['traffic'] = (test['travel_from'] / test['travel_date'].mean()) * test['travel_time']\n",
    "test['event'] = (test['travel_date'].std() / test['travel_date'])\n",
    "test['convi'] = (test['travel_time'].std() / test['travel_date']) * test['max_capacity'].std()\n",
    "test['m_time'] = (test['travel_date'] * test['travel_time']) / 3600\n",
    "test['free'] = (test['event'] / test['traffic'])\n",
    "test.head()"
   ]
  },
  {
   "cell_type": "code",
   "execution_count": 130,
   "metadata": {},
   "outputs": [
    {
     "data": {
      "text/plain": [
       "ride_id         1.000000\n",
       "car_type        0.630467\n",
       "max_capacity    0.630467\n",
       "free            0.248296\n",
       "convi           0.074656\n",
       "event           0.074656\n",
       "travel_time     0.066439\n",
       "m_time         -0.038199\n",
       "Name: ride_id, dtype: float64"
      ]
     },
     "execution_count": 130,
     "metadata": {},
     "output_type": "execute_result"
    }
   ],
   "source": [
    "# Top 10 numeric features positively correlated with SalePrice\n",
    "test.corr()['ride_id'].sort_values(ascending=False).head(8) "
   ]
  },
  {
   "cell_type": "code",
   "execution_count": 129,
   "metadata": {},
   "outputs": [
    {
     "data": {
      "text/plain": [
       "Index(['ride_id', 'car_type', 'max_capacity', 'free', 'convi', 'event',\n",
       "       'travel_time', 'm_time'],\n",
       "      dtype='object')"
      ]
     },
     "execution_count": 129,
     "metadata": {},
     "output_type": "execute_result"
    }
   ],
   "source": [
    "ttop_corr_features = test.corr()['ride_id'].sort_values(ascending=False).head(8).index\n",
    "ttop_corr_features"
   ]
  },
  {
   "cell_type": "code",
   "execution_count": null,
   "metadata": {},
   "outputs": [],
   "source": []
  },
  {
   "cell_type": "code",
   "execution_count": 131,
   "metadata": {},
   "outputs": [],
   "source": [
    "test = test[['max_capacity','car_type','travel_time','m_time','traffic','travel_date']]"
   ]
  },
  {
   "cell_type": "code",
   "execution_count": 132,
   "metadata": {},
   "outputs": [
    {
     "data": {
      "text/html": [
       "<div>\n",
       "<style scoped>\n",
       "    .dataframe tbody tr th:only-of-type {\n",
       "        vertical-align: middle;\n",
       "    }\n",
       "\n",
       "    .dataframe tbody tr th {\n",
       "        vertical-align: top;\n",
       "    }\n",
       "\n",
       "    .dataframe thead th {\n",
       "        text-align: right;\n",
       "    }\n",
       "</style>\n",
       "<table border=\"1\" class=\"dataframe\">\n",
       "  <thead>\n",
       "    <tr style=\"text-align: right;\">\n",
       "      <th></th>\n",
       "      <th>max_capacity</th>\n",
       "      <th>car_type</th>\n",
       "      <th>travel_time</th>\n",
       "      <th>m_time</th>\n",
       "      <th>traffic</th>\n",
       "      <th>travel_date</th>\n",
       "    </tr>\n",
       "  </thead>\n",
       "  <tbody>\n",
       "    <tr>\n",
       "      <th>0</th>\n",
       "      <td>49</td>\n",
       "      <td>1</td>\n",
       "      <td>7.100000</td>\n",
       "      <td>0.031556</td>\n",
       "      <td>17.245075</td>\n",
       "      <td>16.0</td>\n",
       "    </tr>\n",
       "    <tr>\n",
       "      <th>1</th>\n",
       "      <td>11</td>\n",
       "      <td>0</td>\n",
       "      <td>11.133333</td>\n",
       "      <td>0.046389</td>\n",
       "      <td>27.041572</td>\n",
       "      <td>15.0</td>\n",
       "    </tr>\n",
       "    <tr>\n",
       "      <th>2</th>\n",
       "      <td>11</td>\n",
       "      <td>0</td>\n",
       "      <td>5.000000</td>\n",
       "      <td>0.018056</td>\n",
       "      <td>12.144419</td>\n",
       "      <td>13.0</td>\n",
       "    </tr>\n",
       "    <tr>\n",
       "      <th>3</th>\n",
       "      <td>11</td>\n",
       "      <td>0</td>\n",
       "      <td>9.166667</td>\n",
       "      <td>0.033102</td>\n",
       "      <td>22.264768</td>\n",
       "      <td>13.0</td>\n",
       "    </tr>\n",
       "    <tr>\n",
       "      <th>4</th>\n",
       "      <td>11</td>\n",
       "      <td>0</td>\n",
       "      <td>9.333333</td>\n",
       "      <td>0.033704</td>\n",
       "      <td>22.669582</td>\n",
       "      <td>13.0</td>\n",
       "    </tr>\n",
       "  </tbody>\n",
       "</table>\n",
       "</div>"
      ],
      "text/plain": [
       "   max_capacity  car_type  travel_time    m_time    traffic  travel_date\n",
       "0            49         1     7.100000  0.031556  17.245075         16.0\n",
       "1            11         0    11.133333  0.046389  27.041572         15.0\n",
       "2            11         0     5.000000  0.018056  12.144419         13.0\n",
       "3            11         0     9.166667  0.033102  22.264768         13.0\n",
       "4            11         0     9.333333  0.033704  22.669582         13.0"
      ]
     },
     "execution_count": 132,
     "metadata": {},
     "output_type": "execute_result"
    }
   ],
   "source": [
    "test.head()"
   ]
  },
  {
   "cell_type": "code",
   "execution_count": 133,
   "metadata": {},
   "outputs": [],
   "source": [
    "X = df\n",
    "y = num['number_of_tickets']"
   ]
  },
  {
   "cell_type": "markdown",
   "metadata": {},
   "source": [
    "### 5. Model"
   ]
  },
  {
   "cell_type": "code",
   "execution_count": 134,
   "metadata": {},
   "outputs": [],
   "source": [
    "from sklearn.model_selection import train_test_split"
   ]
  },
  {
   "cell_type": "code",
   "execution_count": 135,
   "metadata": {},
   "outputs": [],
   "source": [
    " X_train, X_test, y_train, y_test = train_test_split(X, y, test_size=0.1777, random_state=42)"
   ]
  },
  {
   "cell_type": "code",
   "execution_count": 136,
   "metadata": {},
   "outputs": [
    {
     "data": {
      "text/plain": [
       "1111"
      ]
     },
     "execution_count": 136,
     "metadata": {},
     "output_type": "execute_result"
    }
   ],
   "source": [
    "len(X_test)"
   ]
  },
  {
   "cell_type": "markdown",
   "metadata": {},
   "source": [
    "### 5.1  Gradient Boosting Machine"
   ]
  },
  {
   "cell_type": "code",
   "execution_count": 137,
   "metadata": {},
   "outputs": [
    {
     "name": "stderr",
     "output_type": "stream",
     "text": [
      "/home/clone/anaconda3/lib/python3.6/site-packages/sklearn/ensemble/weight_boosting.py:29: DeprecationWarning: numpy.core.umath_tests is an internal NumPy module and should not be imported. It will be removed in a future NumPy release.\n",
      "  from numpy.core.umath_tests import inner1d\n"
     ]
    }
   ],
   "source": [
    "from sklearn.ensemble import GradientBoostingRegressor"
   ]
  },
  {
   "cell_type": "code",
   "execution_count": 142,
   "metadata": {},
   "outputs": [],
   "source": [
    "lr = [0.0001,0.001,0.01,0.1,0.2,0.3]\n",
    "for i in lr:\n",
    "    gbr = GradientBoostingRegressor(n_estimators=100, learning_rate=i)"
   ]
  },
  {
   "cell_type": "code",
   "execution_count": 143,
   "metadata": {},
   "outputs": [
    {
     "data": {
      "text/plain": [
       "GradientBoostingRegressor(alpha=0.9, criterion='friedman_mse', init=None,\n",
       "             learning_rate=0.3, loss='ls', max_depth=3, max_features=None,\n",
       "             max_leaf_nodes=None, min_impurity_decrease=0.0,\n",
       "             min_impurity_split=None, min_samples_leaf=1,\n",
       "             min_samples_split=2, min_weight_fraction_leaf=0.0,\n",
       "             n_estimators=100, presort='auto', random_state=None,\n",
       "             subsample=1.0, verbose=0, warm_start=False)"
      ]
     },
     "execution_count": 143,
     "metadata": {},
     "output_type": "execute_result"
    }
   ],
   "source": [
    "gbr.fit(X_train, y_train)"
   ]
  },
  {
   "cell_type": "code",
   "execution_count": 144,
   "metadata": {},
   "outputs": [
    {
     "data": {
      "text/plain": [
       "array([6.63777769, 7.82182614, 7.11994319, ..., 9.81481973, 9.29419936,\n",
       "       5.34477696])"
      ]
     },
     "execution_count": 144,
     "metadata": {},
     "output_type": "execute_result"
    }
   ],
   "source": [
    "gbr_pred1 = gbr.predict(X_test)\n",
    "gbr_pred1"
   ]
  },
  {
   "cell_type": "code",
   "execution_count": 145,
   "metadata": {},
   "outputs": [
    {
     "data": {
      "text/plain": [
       "array([-0.64753916,  5.14728943,  6.72487453, ..., -1.68545894,\n",
       "       -0.64753916,  3.57999755])"
      ]
     },
     "execution_count": 145,
     "metadata": {},
     "output_type": "execute_result"
    }
   ],
   "source": [
    "gbr_pred2 = gbr.predict(test)\n",
    "gbr_pred2"
   ]
  },
  {
   "cell_type": "code",
   "execution_count": 146,
   "metadata": {},
   "outputs": [],
   "source": [
    "predict_1 = pd.DataFrame({\n",
    "    'ride_id':t_id,\n",
    "    'number_of_ticket':gbr_pred1\n",
    "})"
   ]
  },
  {
   "cell_type": "code",
   "execution_count": 147,
   "metadata": {},
   "outputs": [
    {
     "data": {
      "text/html": [
       "<div>\n",
       "<style scoped>\n",
       "    .dataframe tbody tr th:only-of-type {\n",
       "        vertical-align: middle;\n",
       "    }\n",
       "\n",
       "    .dataframe tbody tr th {\n",
       "        vertical-align: top;\n",
       "    }\n",
       "\n",
       "    .dataframe thead th {\n",
       "        text-align: right;\n",
       "    }\n",
       "</style>\n",
       "<table border=\"1\" class=\"dataframe\">\n",
       "  <thead>\n",
       "    <tr style=\"text-align: right;\">\n",
       "      <th></th>\n",
       "      <th>ride_id</th>\n",
       "      <th>number_of_ticket</th>\n",
       "    </tr>\n",
       "  </thead>\n",
       "  <tbody>\n",
       "    <tr>\n",
       "      <th>0</th>\n",
       "      <td>247</td>\n",
       "      <td>6.637778</td>\n",
       "    </tr>\n",
       "    <tr>\n",
       "      <th>1</th>\n",
       "      <td>256</td>\n",
       "      <td>7.821826</td>\n",
       "    </tr>\n",
       "    <tr>\n",
       "      <th>2</th>\n",
       "      <td>275</td>\n",
       "      <td>7.119943</td>\n",
       "    </tr>\n",
       "    <tr>\n",
       "      <th>3</th>\n",
       "      <td>285</td>\n",
       "      <td>7.630760</td>\n",
       "    </tr>\n",
       "    <tr>\n",
       "      <th>4</th>\n",
       "      <td>286</td>\n",
       "      <td>4.484890</td>\n",
       "    </tr>\n",
       "  </tbody>\n",
       "</table>\n",
       "</div>"
      ],
      "text/plain": [
       "   ride_id  number_of_ticket\n",
       "0      247          6.637778\n",
       "1      256          7.821826\n",
       "2      275          7.119943\n",
       "3      285          7.630760\n",
       "4      286          4.484890"
      ]
     },
     "execution_count": 147,
     "metadata": {},
     "output_type": "execute_result"
    }
   ],
   "source": [
    "predict_1.head()"
   ]
  },
  {
   "cell_type": "code",
   "execution_count": 148,
   "metadata": {},
   "outputs": [],
   "source": [
    "predict_2 = pd.DataFrame({\n",
    "    'ride_id':t_id,\n",
    "    'number_of_ticket':gbr_pred2\n",
    "})"
   ]
  },
  {
   "cell_type": "code",
   "execution_count": 149,
   "metadata": {},
   "outputs": [
    {
     "data": {
      "text/html": [
       "<div>\n",
       "<style scoped>\n",
       "    .dataframe tbody tr th:only-of-type {\n",
       "        vertical-align: middle;\n",
       "    }\n",
       "\n",
       "    .dataframe tbody tr th {\n",
       "        vertical-align: top;\n",
       "    }\n",
       "\n",
       "    .dataframe thead th {\n",
       "        text-align: right;\n",
       "    }\n",
       "</style>\n",
       "<table border=\"1\" class=\"dataframe\">\n",
       "  <thead>\n",
       "    <tr style=\"text-align: right;\">\n",
       "      <th></th>\n",
       "      <th>ride_id</th>\n",
       "      <th>number_of_ticket</th>\n",
       "    </tr>\n",
       "  </thead>\n",
       "  <tbody>\n",
       "    <tr>\n",
       "      <th>0</th>\n",
       "      <td>247</td>\n",
       "      <td>-0.647539</td>\n",
       "    </tr>\n",
       "    <tr>\n",
       "      <th>1</th>\n",
       "      <td>256</td>\n",
       "      <td>5.147289</td>\n",
       "    </tr>\n",
       "    <tr>\n",
       "      <th>2</th>\n",
       "      <td>275</td>\n",
       "      <td>6.724875</td>\n",
       "    </tr>\n",
       "    <tr>\n",
       "      <th>3</th>\n",
       "      <td>285</td>\n",
       "      <td>5.891403</td>\n",
       "    </tr>\n",
       "    <tr>\n",
       "      <th>4</th>\n",
       "      <td>286</td>\n",
       "      <td>5.891403</td>\n",
       "    </tr>\n",
       "  </tbody>\n",
       "</table>\n",
       "</div>"
      ],
      "text/plain": [
       "   ride_id  number_of_ticket\n",
       "0      247         -0.647539\n",
       "1      256          5.147289\n",
       "2      275          6.724875\n",
       "3      285          5.891403\n",
       "4      286          5.891403"
      ]
     },
     "execution_count": 149,
     "metadata": {},
     "output_type": "execute_result"
    }
   ],
   "source": [
    "predict_2.head()"
   ]
  },
  {
   "cell_type": "code",
   "execution_count": 150,
   "metadata": {},
   "outputs": [],
   "source": [
    "predict_1.to_csv('gbr1_tra_1.csv', index=False)\n",
    "# predict_2.to_csv('gbr2.2_tra_2.csv', index=False)"
   ]
  },
  {
   "cell_type": "code",
   "execution_count": 151,
   "metadata": {},
   "outputs": [
    {
     "data": {
      "text/plain": [
       "0.6713676554392796"
      ]
     },
     "execution_count": 151,
     "metadata": {},
     "output_type": "execute_result"
    }
   ],
   "source": [
    "gbr.score(X_train, y_train)"
   ]
  },
  {
   "cell_type": "markdown",
   "metadata": {},
   "source": [
    "###  5.2 SVR"
   ]
  },
  {
   "cell_type": "code",
   "execution_count": 70,
   "metadata": {},
   "outputs": [],
   "source": [
    "from sklearn.svm import LinearSVR,NuSVR,SVR"
   ]
  },
  {
   "cell_type": "code",
   "execution_count": 71,
   "metadata": {},
   "outputs": [
    {
     "data": {
      "text/plain": [
       "LinearSVR(C=1.0, dual=True, epsilon=0.0, fit_intercept=True,\n",
       "     intercept_scaling=1.0, loss='epsilon_insensitive', max_iter=1000,\n",
       "     random_state=None, tol=0.0001, verbose=0)"
      ]
     },
     "execution_count": 71,
     "metadata": {},
     "output_type": "execute_result"
    }
   ],
   "source": [
    "svr = SVR()\n",
    "nusvr = NuSVR()\n",
    "lsvr = LinearSVR()\n",
    "svr.fit(X_train, y_train)\n",
    "nusvr.fit(X_train, y_train)\n",
    "lsvr.fit(X_train, y_train)"
   ]
  },
  {
   "cell_type": "code",
   "execution_count": 72,
   "metadata": {},
   "outputs": [
    {
     "data": {
      "text/plain": [
       "array([2.23339777, 9.86744636, 3.71300929, ..., 5.45108155, 5.72995651,\n",
       "       5.74450065])"
      ]
     },
     "execution_count": 72,
     "metadata": {},
     "output_type": "execute_result"
    }
   ],
   "source": [
    "nusvr_pred1 = nusvr.predict(X_test)\n",
    "lsvr_pred1 = lsvr.predict(X_test)\n",
    "svr_pred1 = svr.predict(X_test)\n",
    "svr_pred1"
   ]
  },
  {
   "cell_type": "code",
   "execution_count": 73,
   "metadata": {},
   "outputs": [
    {
     "data": {
      "text/plain": [
       "array([6.96175876, 6.79004057, 3.17822527, ..., 6.94195685, 6.95185781,\n",
       "       7.46146763])"
      ]
     },
     "execution_count": 73,
     "metadata": {},
     "output_type": "execute_result"
    }
   ],
   "source": [
    "nusvr_pred2 = nusvr.predict(test)\n",
    "lsvr_pred2 = lsvr.predict(test)\n",
    "svr_pred2 = svr.predict(test)\n",
    "lsvr_pred2"
   ]
  },
  {
   "cell_type": "code",
   "execution_count": 74,
   "metadata": {},
   "outputs": [],
   "source": [
    "predict_3 = pd.DataFrame({\n",
    "    'ride_id':t_id,\n",
    "    'number_of_ticket':lsvr_pred1\n",
    "})"
   ]
  },
  {
   "cell_type": "code",
   "execution_count": 75,
   "metadata": {},
   "outputs": [],
   "source": [
    "predict_4 = pd.DataFrame({\n",
    "    'ride_id':t_id,\n",
    "    'number_of_ticket':lsvr_pred2\n",
    "})"
   ]
  },
  {
   "cell_type": "code",
   "execution_count": 76,
   "metadata": {},
   "outputs": [],
   "source": [
    "# predict_3.to_csv('svr3_tra_3.csv', index=False)\n",
    "# predict_4.to_csv('svr4_tra_4.csv', index=False)"
   ]
  },
  {
   "cell_type": "code",
   "execution_count": 77,
   "metadata": {},
   "outputs": [
    {
     "data": {
      "text/plain": [
       "-0.027734288865924214"
      ]
     },
     "execution_count": 77,
     "metadata": {},
     "output_type": "execute_result"
    }
   ],
   "source": [
    "svr.score(X_train, y_train)"
   ]
  },
  {
   "cell_type": "markdown",
   "metadata": {},
   "source": [
    "###  5.3 KNN"
   ]
  },
  {
   "cell_type": "code",
   "execution_count": 152,
   "metadata": {},
   "outputs": [],
   "source": [
    "from sklearn.linear_model import ARDRegression,HuberRegressor,PassiveAggressiveRegressor,SGDRegressor"
   ]
  },
  {
   "cell_type": "code",
   "execution_count": 153,
   "metadata": {},
   "outputs": [
    {
     "data": {
      "text/plain": [
       "HuberRegressor(alpha=0.0001, epsilon=1.35, fit_intercept=True, max_iter=100,\n",
       "        tol=1e-05, warm_start=False)"
      ]
     },
     "execution_count": 153,
     "metadata": {},
     "output_type": "execute_result"
    }
   ],
   "source": [
    "huber = HuberRegressor()\n",
    "huber.fit(X_train, y_train)"
   ]
  },
  {
   "cell_type": "code",
   "execution_count": 154,
   "metadata": {},
   "outputs": [
    {
     "name": "stderr",
     "output_type": "stream",
     "text": [
      "/home/clone/anaconda3/lib/python3.6/site-packages/sklearn/linear_model/stochastic_gradient.py:128: FutureWarning: max_iter and tol parameters have been added in <class 'sklearn.linear_model.passive_aggressive.PassiveAggressiveRegressor'> in 0.19. If both are left unset, they default to max_iter=5 and tol=None. If tol is not None, max_iter defaults to max_iter=1000. From 0.21, default max_iter will be 1000, and default tol will be 1e-3.\n",
      "  \"and default tol will be 1e-3.\" % type(self), FutureWarning)\n"
     ]
    },
    {
     "data": {
      "text/plain": [
       "PassiveAggressiveRegressor(C=1.0, average=False, epsilon=0.1,\n",
       "              fit_intercept=True, loss='epsilon_insensitive',\n",
       "              max_iter=None, n_iter=None, random_state=None, shuffle=True,\n",
       "              tol=None, verbose=0, warm_start=False)"
      ]
     },
     "execution_count": 154,
     "metadata": {},
     "output_type": "execute_result"
    }
   ],
   "source": [
    "pas = PassiveAggressiveRegressor()\n",
    "pas.fit(X_train, y_train)"
   ]
  },
  {
   "cell_type": "code",
   "execution_count": 155,
   "metadata": {},
   "outputs": [
    {
     "name": "stderr",
     "output_type": "stream",
     "text": [
      "/home/clone/anaconda3/lib/python3.6/site-packages/sklearn/linear_model/stochastic_gradient.py:128: FutureWarning: max_iter and tol parameters have been added in <class 'sklearn.linear_model.stochastic_gradient.SGDRegressor'> in 0.19. If both are left unset, they default to max_iter=5 and tol=None. If tol is not None, max_iter defaults to max_iter=1000. From 0.21, default max_iter will be 1000, and default tol will be 1e-3.\n",
      "  \"and default tol will be 1e-3.\" % type(self), FutureWarning)\n"
     ]
    },
    {
     "data": {
      "text/plain": [
       "SGDRegressor(alpha=0.0001, average=False, epsilon=0.1, eta0=0.01,\n",
       "       fit_intercept=True, l1_ratio=0.15, learning_rate='invscaling',\n",
       "       loss='squared_loss', max_iter=None, n_iter=None, penalty='l2',\n",
       "       power_t=0.25, random_state=None, shuffle=True, tol=None, verbose=0,\n",
       "       warm_start=False)"
      ]
     },
     "execution_count": 155,
     "metadata": {},
     "output_type": "execute_result"
    }
   ],
   "source": [
    "sgd = SGDRegressor()\n",
    "sgd.fit(X_train, y_train)"
   ]
  },
  {
   "cell_type": "code",
   "execution_count": 156,
   "metadata": {},
   "outputs": [
    {
     "data": {
      "text/plain": [
       "(array([ 7.96806962,  6.79352923,  5.81910613, ..., 14.61117054,\n",
       "         5.88298823,  4.93324379]),\n",
       " array([ 7.50076652,  7.58357826, -8.64122906, ...,  2.08611051,\n",
       "        -8.0343946 ,  3.17332669]),\n",
       " array([-1.49973206e+14, -2.02353547e+14, -1.23675034e+14, ...,\n",
       "        -1.46371154e+14, -1.44848303e+14, -1.11579605e+14]))"
      ]
     },
     "execution_count": 156,
     "metadata": {},
     "output_type": "execute_result"
    }
   ],
   "source": [
    "huber_pred1 = huber.predict(X_test)\n",
    "pas_pred1 = pas.predict(X_test)\n",
    "sdg_pred1 = sgd.predict(X_test)\n",
    "huber_pred1, pas_pred1, sdg_pred1"
   ]
  },
  {
   "cell_type": "code",
   "execution_count": 157,
   "metadata": {},
   "outputs": [
    {
     "data": {
      "text/plain": [
       "(array([13.13167712, 19.88955093,  9.59519681, ..., 10.5245285 ,\n",
       "         7.98925096, 13.19680302]),\n",
       " array([-11.60293168,   4.4104749 ,   0.32921148, ..., -11.68873502,\n",
       "        -11.74170263, -11.0260506 ]),\n",
       " array([ 6.44118942e+12, -3.61961813e+12, -2.16499698e+12, ...,\n",
       "         6.53360667e+12,  6.62014503e+12,  5.69524996e+12]))"
      ]
     },
     "execution_count": 157,
     "metadata": {},
     "output_type": "execute_result"
    }
   ],
   "source": [
    "huber_pred2 = huber.predict(test)\n",
    "pas_pred2 = pas.predict(test)\n",
    "sdg_pred2 = sgd.predict(test)\n",
    "huber_pred2, pas_pred2, sdg_pred2"
   ]
  },
  {
   "cell_type": "code",
   "execution_count": 158,
   "metadata": {},
   "outputs": [],
   "source": [
    "predict_5 = pd.DataFrame({\n",
    "    'ride_id':t_id,\n",
    "    'number_of_ticket':huber_pred1\n",
    "})\n",
    "predict_6 = pd.DataFrame({\n",
    "    'ride_id':t_id,\n",
    "    'number_of_ticket':huber_pred2\n",
    "})\n",
    "# predict_7 = pd.DataFrame({\n",
    "#     'ride_id':t_id,\n",
    "#     'number_of_ticket':pas_pred1\n",
    "# })\n",
    "# predict_8 = pd.DataFrame({\n",
    "#     'ride_id':t_id,\n",
    "#     'number_of_ticket':pas_pred2\n",
    "# })\n",
    "# predict_9 = pd.DataFrame({\n",
    "#     'ride_id':t_id,\n",
    "#     'number_of_ticket':sdg_pred1\n",
    "# })"
   ]
  },
  {
   "cell_type": "code",
   "execution_count": 159,
   "metadata": {},
   "outputs": [],
   "source": [
    "predict_5.to_csv('sd5.csv', index=False)\n",
    "predict_6.to_csv('sd6.csv', index=False)\n",
    "# predict_7.to_csv('sd7.csv', index=False)\n",
    "# predict_8.to_csv('sd8.csv', index=False)\n",
    "# predict_9.to_csv('sd9.csv', index=False)"
   ]
  },
  {
   "cell_type": "code",
   "execution_count": null,
   "metadata": {},
   "outputs": [],
   "source": [
    "ard = ARDRegression()\n",
    "ard.fit(X_train, y_train)"
   ]
  },
  {
   "cell_type": "code",
   "execution_count": 163,
   "metadata": {},
   "outputs": [
    {
     "data": {
      "text/plain": [
       "0.26240473919908647"
      ]
     },
     "execution_count": 163,
     "metadata": {},
     "output_type": "execute_result"
    }
   ],
   "source": [
    "knr.score(X,y)"
   ]
  },
  {
   "cell_type": "markdown",
   "metadata": {},
   "source": [
    "### 5.4 Random Forest "
   ]
  },
  {
   "cell_type": "code",
   "execution_count": 164,
   "metadata": {},
   "outputs": [],
   "source": [
    "from sklearn.ensemble import RandomForestRegressor"
   ]
  },
  {
   "cell_type": "code",
   "execution_count": 165,
   "metadata": {},
   "outputs": [
    {
     "data": {
      "text/plain": [
       "RandomForestRegressor(bootstrap=True, criterion='mse', max_depth=None,\n",
       "           max_features='auto', max_leaf_nodes=None,\n",
       "           min_impurity_decrease=0.0, min_impurity_split=None,\n",
       "           min_samples_leaf=1, min_samples_split=2,\n",
       "           min_weight_fraction_leaf=0.0, n_estimators=10, n_jobs=1,\n",
       "           oob_score=False, random_state=None, verbose=0, warm_start=False)"
      ]
     },
     "execution_count": 165,
     "metadata": {},
     "output_type": "execute_result"
    }
   ],
   "source": [
    "rfr = RandomForestRegressor()\n",
    "rfr.fit(X_train, y_train)"
   ]
  },
  {
   "cell_type": "code",
   "execution_count": 166,
   "metadata": {},
   "outputs": [],
   "source": [
    "rfr_pred1 = rfr.predict(X_test)\n",
    "rfr_pred2 = rfr.predict(test)"
   ]
  },
  {
   "cell_type": "code",
   "execution_count": 167,
   "metadata": {},
   "outputs": [],
   "source": [
    "predict_7 = pd.DataFrame({\n",
    "    'ride_id':t_id,\n",
    "    'number_of_ticket':rfr_pred1\n",
    "})\n",
    "predict_8 = pd.DataFrame({\n",
    "    'ride_id':t_id,\n",
    "    'number_of_ticket':rfr_pred2\n",
    "})"
   ]
  },
  {
   "cell_type": "code",
   "execution_count": 168,
   "metadata": {},
   "outputs": [],
   "source": [
    "# predict_7.to_csv('rfr1.csv', index=False)\n",
    "# predict_8.to_csv('rfr2_tra_6.csv', index=False)"
   ]
  },
  {
   "cell_type": "code",
   "execution_count": 170,
   "metadata": {},
   "outputs": [
    {
     "data": {
      "text/plain": [
       "0.5280103828348643"
      ]
     },
     "execution_count": 170,
     "metadata": {},
     "output_type": "execute_result"
    }
   ],
   "source": [
    "rfr.score(X,y)"
   ]
  },
  {
   "cell_type": "markdown",
   "metadata": {},
   "source": [
    "###  5.5 Adaboost"
   ]
  },
  {
   "cell_type": "code",
   "execution_count": 171,
   "metadata": {},
   "outputs": [],
   "source": [
    "from sklearn.ensemble import AdaBoostRegressor"
   ]
  },
  {
   "cell_type": "code",
   "execution_count": 172,
   "metadata": {},
   "outputs": [],
   "source": [
    "ada = AdaBoostRegressor()"
   ]
  },
  {
   "cell_type": "code",
   "execution_count": 173,
   "metadata": {},
   "outputs": [],
   "source": [
    "ada.fit(X_train, y_train)\n",
    "ada_pred1 = ada.predict(X_test)\n",
    "ada_pred2 = ada.predict(test)"
   ]
  },
  {
   "cell_type": "code",
   "execution_count": 174,
   "metadata": {},
   "outputs": [],
   "source": [
    "predict_9 = pd.DataFrame({\n",
    "    'ride_id':t_id,\n",
    "    'number_of_ticket':ada_pred1\n",
    "})\n",
    "predict_10 = pd.DataFrame({\n",
    "    'ride_id':t_id,\n",
    "    'number_of_ticket':ada_pred2\n",
    "})"
   ]
  },
  {
   "cell_type": "code",
   "execution_count": 175,
   "metadata": {},
   "outputs": [],
   "source": [
    "# predict_9.to_csv('ada1.csv', index=False)\n",
    "# predict_10.to_csv('ada2.csv', index=False)"
   ]
  },
  {
   "cell_type": "code",
   "execution_count": 178,
   "metadata": {},
   "outputs": [
    {
     "data": {
      "text/plain": [
       "0.07767477732866346"
      ]
     },
     "execution_count": 178,
     "metadata": {},
     "output_type": "execute_result"
    }
   ],
   "source": [
    "ada.score(X_train, y_train)"
   ]
  },
  {
   "cell_type": "markdown",
   "metadata": {},
   "source": [
    "### "
   ]
  },
  {
   "cell_type": "code",
   "execution_count": 179,
   "metadata": {},
   "outputs": [],
   "source": [
    "from sklearn.ensemble import GradientBoostingRegressor\n",
    "\n",
    "gbr = GradientBoostingRegressor()\n",
    "gbr.fit(X_train, y_train)\n",
    "gbr_pred1 = ada.predict(X_test)\n",
    "gbr_pred2 = ada.predict(test)\n",
    "\n",
    "predict_11 = pd.DataFrame({\n",
    "    'ride_id':t_id,\n",
    "    'number_of_ticket':gbr_pred1\n",
    "})\n",
    "predict_12 = pd.DataFrame({\n",
    "    'ride_id':t_id,\n",
    "    'number_of_ticket':gbr_pred2\n",
    "})\n",
    "\n",
    "# predict_11.to_csv('gbr1.csv', index=False)\n",
    "# predict_12.to_csv('gbr2.csv', index=False)"
   ]
  },
  {
   "cell_type": "code",
   "execution_count": 181,
   "metadata": {},
   "outputs": [
    {
     "data": {
      "text/plain": [
       "0.321806830482096"
      ]
     },
     "execution_count": 181,
     "metadata": {},
     "output_type": "execute_result"
    }
   ],
   "source": [
    "gbr.score(X, y)"
   ]
  },
  {
   "cell_type": "markdown",
   "metadata": {},
   "source": [
    "## 5.6 Ridge"
   ]
  },
  {
   "cell_type": "code",
   "execution_count": 189,
   "metadata": {},
   "outputs": [
    {
     "name": "stdout",
     "output_type": "stream",
     "text": [
      "[9.265442481109847, 9.265513679537003, 9.265532705623151, 9.265449672862573, 9.265098824059168, 9.264125833021263, 9.261208304792788, 9.255589256608955]\n"
     ]
    },
    {
     "data": {
      "text/plain": [
       "<matplotlib.collections.PathCollection at 0x7fd12f61fc88>"
      ]
     },
     "execution_count": 189,
     "metadata": {},
     "output_type": "execute_result"
    },
    {
     "data": {
      "image/png": "[encoded data removed]",
      "text/plain": [
       "<Figure size 432x288 with 1 Axes>"
      ]
     },
     "metadata": {},
     "output_type": "display_data"
    }
   ],
   "source": [
    "# Import Ridge regression from sklearn\n",
    "from sklearn.linear_model import Ridge\n",
    "# Evaluate model performance using root mean square error\n",
    "from sklearn.metrics import mean_squared_error\n",
    "rmse=[]\n",
    "# check the below alpha values for Ridge Regression\n",
    "alpha=[0.01, 0.03, 0.1, 0.3, 1, 3, 10, 30]\n",
    "\n",
    "for alph in alpha:\n",
    "    ridge=Ridge(alpha=alph, copy_X=True, fit_intercept=True)\n",
    "    ridge.fit(X_train, y_train)\n",
    "    predict=ridge.predict(X_test)\n",
    "    pred=ridge.predict(test)\n",
    "#     rmse.append(np.sqrt(mean_squared_error(predict, y_test)))\n",
    "    rmse.append(np.sqrt(mean_squared_error(pred, y_test)))\n",
    "print(rmse)\n",
    "plt.scatter(alpha, rmse)"
   ]
  },
  {
   "cell_type": "code",
   "execution_count": 188,
   "metadata": {},
   "outputs": [
    {
     "name": "stdout",
     "output_type": "stream",
     "text": [
      "[9.261972770902553, 9.261776947174988, 9.2615843140113, 9.261394792131409, 9.261208304792788, 9.261024777706254, 9.260844138949242, 9.260666318880922, 9.260491250058228, 9.26031886715411, 9.260149106879554, 9.259981907905958]\n"
     ]
    },
    {
     "data": {
      "text/plain": [
       "<matplotlib.collections.PathCollection at 0x7fd12f644ba8>"
      ]
     },
     "execution_count": 188,
     "metadata": {},
     "output_type": "execute_result"
    },
    {
     "data": {
      "image/png": "[encoded data removed]",
      "text/plain": [
       "<Figure size 432x288 with 1 Axes>"
      ]
     },
     "metadata": {},
     "output_type": "display_data"
    }
   ],
   "source": [
    "alpha=np.arange(8,14, 0.5)\n",
    "rmse=[]\n",
    "\n",
    "for alph in alpha:\n",
    "    ridge=Ridge(alpha=alph, copy_X=True, fit_intercept=True)\n",
    "    ridge.fit(X_train, y_train)\n",
    "    predict=ridge.predict(X_test)\n",
    "    pred=ridge.predict(test)\n",
    "#     rmse.append(np.sqrt(mean_squared_error(predict, y_test)))\n",
    "    rmse.append(np.sqrt(mean_squared_error(pred, y_test)))\n",
    "print(rmse)\n",
    "plt.scatter(alpha, rmse)"
   ]
  },
  {
   "cell_type": "code",
   "execution_count": 187,
   "metadata": {},
   "outputs": [
    {
     "name": "stdout",
     "output_type": "stream",
     "text": [
      "[9.261024777706254, 9.260988421149342, 9.260952179553989, 9.260916052359672, 9.26088003900917, 9.260844138949242, 9.260808351629773, 9.260772676504473, 9.260737113030174, 9.260701660667761, 9.260666318880922]\n"
     ]
    },
    {
     "data": {
      "text/plain": [
       "<matplotlib.collections.PathCollection at 0x7fd12f66f4a8>"
      ]
     },
     "execution_count": 187,
     "metadata": {},
     "output_type": "execute_result"
    },
    {
     "data": {
      "image/png": "[encoded data removed]",
      "text/plain": [
       "<Figure size 432x288 with 1 Axes>"
      ]
     },
     "metadata": {},
     "output_type": "display_data"
    }
   ],
   "source": [
    "alpha=np.arange(10.5, 11.6, 0.1)\n",
    "rmse=[]\n",
    "\n",
    "for alph in alpha:\n",
    "    ridge=Ridge(alpha=alph, copy_X=True, fit_intercept=True)\n",
    "    ridge.fit(X_train, y_train)\n",
    "    predict=ridge.predict(X_test)\n",
    "    pred=ridge.predict(test)\n",
    "#     rmse.append(np.sqrt(mean_squared_error(predict, y_test)))\n",
    "    rmse.append(np.sqrt(mean_squared_error(pred, y_test)))\n",
    "print(rmse)\n",
    "plt.scatter(alpha, rmse)"
   ]
  },
  {
   "cell_type": "code",
   "execution_count": 192,
   "metadata": {},
   "outputs": [
    {
     "name": "stdout",
     "output_type": "stream",
     "text": [
      "[9.260808351629773]\n"
     ]
    }
   ],
   "source": [
    "# Use alpha=11.1 to predict the test data\n",
    "ridge=Ridge(alpha=11.1)\n",
    "# Use all training data to fit the model\n",
    "ridge.fit(X_train, y_train)\n",
    "predicted=ridge.predict(test)\n",
    "# predicted\n",
    "rmse = []\n",
    "rmse.append(np.sqrt(mean_squared_error(predicted, y_test)))\n",
    "print(rmse)"
   ]
  },
  {
   "cell_type": "code",
   "execution_count": null,
   "metadata": {},
   "outputs": [],
   "source": []
  }
 ],
 "metadata": {
  "kernelspec": {
   "display_name": "Python 3",
   "language": "python",
   "name": "python3"
  },
  "language_info": {
   "codemirror_mode": {
    "name": "ipython",
    "version": 3
   },
   "file_extension": ".py",
   "mimetype": "text/x-python",
   "name": "python",
   "nbconvert_exporter": "python",
   "pygments_lexer": "ipython3",
   "version": "3.6.5"
  }
 },
 "nbformat": 4,
 "nbformat_minor": 2
}
